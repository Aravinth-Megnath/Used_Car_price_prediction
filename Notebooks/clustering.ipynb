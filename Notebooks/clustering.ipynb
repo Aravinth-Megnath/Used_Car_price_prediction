{
 "cells": [
  {
   "cell_type": "code",
   "execution_count": 1,
   "metadata": {},
   "outputs": [],
   "source": [
    "import pandas as pd \n"
   ]
  },
  {
   "cell_type": "code",
   "execution_count": 25,
   "metadata": {},
   "outputs": [
    {
     "data": {
      "text/html": [
       "<div>\n",
       "<style scoped>\n",
       "    .dataframe tbody tr th:only-of-type {\n",
       "        vertical-align: middle;\n",
       "    }\n",
       "\n",
       "    .dataframe tbody tr th {\n",
       "        vertical-align: top;\n",
       "    }\n",
       "\n",
       "    .dataframe thead th {\n",
       "        text-align: right;\n",
       "    }\n",
       "</style>\n",
       "<table border=\"1\" class=\"dataframe\">\n",
       "  <thead>\n",
       "    <tr style=\"text-align: right;\">\n",
       "      <th></th>\n",
       "      <th>Unnamed: 0</th>\n",
       "      <th>Insurance Validity</th>\n",
       "      <th>Fuel Type</th>\n",
       "      <th>Year of Manufacture</th>\n",
       "      <th>bt</th>\n",
       "      <th>km</th>\n",
       "      <th>transmission</th>\n",
       "      <th>ownerNo</th>\n",
       "      <th>oem</th>\n",
       "      <th>model</th>\n",
       "      <th>...</th>\n",
       "      <th>Alloy Wheel Size</th>\n",
       "      <th>No Door Numbers</th>\n",
       "      <th>Mileage</th>\n",
       "      <th>Super Charger</th>\n",
       "      <th>Turning Radius</th>\n",
       "      <th>Top Speed</th>\n",
       "      <th>City</th>\n",
       "      <th>price_in_lakhs</th>\n",
       "      <th>Registration Year New</th>\n",
       "      <th>Gear</th>\n",
       "    </tr>\n",
       "  </thead>\n",
       "  <tbody>\n",
       "    <tr>\n",
       "      <th>0</th>\n",
       "      <td>0</td>\n",
       "      <td>5</td>\n",
       "      <td>4</td>\n",
       "      <td>2015.0</td>\n",
       "      <td>2</td>\n",
       "      <td>120000</td>\n",
       "      <td>1</td>\n",
       "      <td>3</td>\n",
       "      <td>20</td>\n",
       "      <td>160</td>\n",
       "      <td>...</td>\n",
       "      <td>10</td>\n",
       "      <td>5.0</td>\n",
       "      <td>23.10</td>\n",
       "      <td>1</td>\n",
       "      <td>4.7</td>\n",
       "      <td>25</td>\n",
       "      <td>0</td>\n",
       "      <td>4.00</td>\n",
       "      <td>2018</td>\n",
       "      <td>3</td>\n",
       "    </tr>\n",
       "    <tr>\n",
       "      <th>1</th>\n",
       "      <td>1</td>\n",
       "      <td>2</td>\n",
       "      <td>4</td>\n",
       "      <td>2018.0</td>\n",
       "      <td>7</td>\n",
       "      <td>32706</td>\n",
       "      <td>1</td>\n",
       "      <td>2</td>\n",
       "      <td>6</td>\n",
       "      <td>50</td>\n",
       "      <td>...</td>\n",
       "      <td>4</td>\n",
       "      <td>4.0</td>\n",
       "      <td>17.00</td>\n",
       "      <td>1</td>\n",
       "      <td>5.3</td>\n",
       "      <td>40</td>\n",
       "      <td>0</td>\n",
       "      <td>8.11</td>\n",
       "      <td>2018</td>\n",
       "      <td>3</td>\n",
       "    </tr>\n",
       "    <tr>\n",
       "      <th>2</th>\n",
       "      <td>2</td>\n",
       "      <td>2</td>\n",
       "      <td>4</td>\n",
       "      <td>2018.0</td>\n",
       "      <td>2</td>\n",
       "      <td>11949</td>\n",
       "      <td>1</td>\n",
       "      <td>1</td>\n",
       "      <td>29</td>\n",
       "      <td>273</td>\n",
       "      <td>...</td>\n",
       "      <td>2</td>\n",
       "      <td>5.0</td>\n",
       "      <td>23.84</td>\n",
       "      <td>1</td>\n",
       "      <td>4.9</td>\n",
       "      <td>25</td>\n",
       "      <td>0</td>\n",
       "      <td>5.85</td>\n",
       "      <td>2018</td>\n",
       "      <td>3</td>\n",
       "    </tr>\n",
       "    <tr>\n",
       "      <th>3</th>\n",
       "      <td>3</td>\n",
       "      <td>2</td>\n",
       "      <td>4</td>\n",
       "      <td>2014.0</td>\n",
       "      <td>8</td>\n",
       "      <td>17794</td>\n",
       "      <td>1</td>\n",
       "      <td>1</td>\n",
       "      <td>9</td>\n",
       "      <td>87</td>\n",
       "      <td>...</td>\n",
       "      <td>2</td>\n",
       "      <td>4.0</td>\n",
       "      <td>19.10</td>\n",
       "      <td>1</td>\n",
       "      <td>4.7</td>\n",
       "      <td>47</td>\n",
       "      <td>0</td>\n",
       "      <td>4.62</td>\n",
       "      <td>2014</td>\n",
       "      <td>3</td>\n",
       "    </tr>\n",
       "    <tr>\n",
       "      <th>4</th>\n",
       "      <td>4</td>\n",
       "      <td>5</td>\n",
       "      <td>1</td>\n",
       "      <td>2015.0</td>\n",
       "      <td>7</td>\n",
       "      <td>60000</td>\n",
       "      <td>1</td>\n",
       "      <td>1</td>\n",
       "      <td>20</td>\n",
       "      <td>178</td>\n",
       "      <td>...</td>\n",
       "      <td>4</td>\n",
       "      <td>5.0</td>\n",
       "      <td>23.65</td>\n",
       "      <td>1</td>\n",
       "      <td>5.2</td>\n",
       "      <td>62</td>\n",
       "      <td>0</td>\n",
       "      <td>7.90</td>\n",
       "      <td>2018</td>\n",
       "      <td>3</td>\n",
       "    </tr>\n",
       "  </tbody>\n",
       "</table>\n",
       "<p>5 rows × 36 columns</p>\n",
       "</div>"
      ],
      "text/plain": [
       "   Unnamed: 0  Insurance Validity  Fuel Type  Year of Manufacture  bt      km  \\\n",
       "0           0                   5          4               2015.0   2  120000   \n",
       "1           1                   2          4               2018.0   7   32706   \n",
       "2           2                   2          4               2018.0   2   11949   \n",
       "3           3                   2          4               2014.0   8   17794   \n",
       "4           4                   5          1               2015.0   7   60000   \n",
       "\n",
       "   transmission  ownerNo  oem  model  ...  Alloy Wheel Size  No Door Numbers  \\\n",
       "0             1        3   20    160  ...                10              5.0   \n",
       "1             1        2    6     50  ...                 4              4.0   \n",
       "2             1        1   29    273  ...                 2              5.0   \n",
       "3             1        1    9     87  ...                 2              4.0   \n",
       "4             1        1   20    178  ...                 4              5.0   \n",
       "\n",
       "   Mileage  Super Charger  Turning Radius  Top Speed  City  price_in_lakhs  \\\n",
       "0    23.10              1             4.7         25     0            4.00   \n",
       "1    17.00              1             5.3         40     0            8.11   \n",
       "2    23.84              1             4.9         25     0            5.85   \n",
       "3    19.10              1             4.7         47     0            4.62   \n",
       "4    23.65              1             5.2         62     0            7.90   \n",
       "\n",
       "   Registration Year New  Gear  \n",
       "0                   2018     3  \n",
       "1                   2018     3  \n",
       "2                   2018     3  \n",
       "3                   2014     3  \n",
       "4                   2018     3  \n",
       "\n",
       "[5 rows x 36 columns]"
      ]
     },
     "execution_count": 25,
     "metadata": {},
     "output_type": "execute_result"
    }
   ],
   "source": [
    "balance_df = pd.read_excel('S:/Car/ML ready data/balance_frame.xlsx')\n",
    "feature_df = pd.read_excel('S:/Car/ML ready data/feature_frame.xlsx')\n",
    "balance_df.shape, feature_df.shape\n",
    "balance_df.head()"
   ]
  },
  {
   "cell_type": "code",
   "execution_count": 27,
   "metadata": {},
   "outputs": [
    {
     "data": {
      "text/plain": [
       "(8369, 36)"
      ]
     },
     "execution_count": 27,
     "metadata": {},
     "output_type": "execute_result"
    }
   ],
   "source": [
    "balance_df.shape"
   ]
  },
  {
   "cell_type": "code",
   "execution_count": 24,
   "metadata": {},
   "outputs": [
    {
     "data": {
      "text/plain": [
       "(0, 36)"
      ]
     },
     "execution_count": 24,
     "metadata": {},
     "output_type": "execute_result"
    }
   ],
   "source": [
    "from scipy.stats import zscore\n",
    "import numpy as np\n",
    "\n",
    "# Calculate z-scores\n",
    "z_scores = np.abs(zscore(balance_df))\n",
    "\n",
    "# Set a less strict threshold (e.g., 4)\n",
    "threshold = 1\n",
    "balance_df = balance_df[(z_scores < threshold).all(axis=1)]\n",
    "balance_df.shape\n"
   ]
  },
  {
   "cell_type": "code",
   "execution_count": 29,
   "metadata": {},
   "outputs": [
    {
     "data": {
      "text/plain": [
       "(7697, 36)"
      ]
     },
     "execution_count": 29,
     "metadata": {},
     "output_type": "execute_result"
    }
   ],
   "source": [
    "# Outliers removal using IQR\n",
    "\n",
    "Q1 = balance_df.quantile(0.05)\n",
    "Q3 = balance_df.quantile(0.95)\n",
    "IQR = Q3 - Q1\n",
    "balance_df = balance_df[~((balance_df < (Q1 - 1.5 * IQR)) |(balance_df > (Q3 + 1.5 * IQR))).any(axis=1)]\n",
    "balance_df.shape"
   ]
  },
  {
   "cell_type": "code",
   "execution_count": 6,
   "metadata": {},
   "outputs": [
    {
     "data": {
      "text/plain": [
       "array([], shape=(0, 36), dtype=float64)"
      ]
     },
     "execution_count": 6,
     "metadata": {},
     "output_type": "execute_result"
    }
   ],
   "source": [
    "#Remove Outliers using z score\n",
    "\n",
    "from scipy import stats\n",
    "import numpy as np\n",
    "z = np.abs(stats.zscore(balance_df))\n",
    "threshold = 2\n",
    "balance_df = balance_df[(z < threshold).all(axis=1)]\n",
    "#balance_df.shape\n",
    "z"
   ]
  },
  {
   "cell_type": "code",
   "execution_count": 10,
   "metadata": {},
   "outputs": [
    {
     "data": {
      "text/html": [
       "<div>\n",
       "<style scoped>\n",
       "    .dataframe tbody tr th:only-of-type {\n",
       "        vertical-align: middle;\n",
       "    }\n",
       "\n",
       "    .dataframe tbody tr th {\n",
       "        vertical-align: top;\n",
       "    }\n",
       "\n",
       "    .dataframe thead th {\n",
       "        text-align: right;\n",
       "    }\n",
       "</style>\n",
       "<table border=\"1\" class=\"dataframe\">\n",
       "  <thead>\n",
       "    <tr style=\"text-align: right;\">\n",
       "      <th></th>\n",
       "      <th>Unnamed: 0</th>\n",
       "      <th>Features</th>\n",
       "      <th>Comfort &amp; Convenience</th>\n",
       "      <th>Interior</th>\n",
       "      <th>Exterior</th>\n",
       "      <th>Safety</th>\n",
       "      <th>Entertainment &amp; Communication</th>\n",
       "    </tr>\n",
       "  </thead>\n",
       "  <tbody>\n",
       "    <tr>\n",
       "      <th>0</th>\n",
       "      <td>0</td>\n",
       "      <td>['Power Steering', 'Power Windows Front', 'Air...</td>\n",
       "      <td>['Power Steering', 'Power Windows Front', 'Pow...</td>\n",
       "      <td>['Air Conditioner', 'Heater', 'Digital Odomete...</td>\n",
       "      <td>['Adjustable Head Lights', 'Manually Adjustabl...</td>\n",
       "      <td>['Centeral Locking', 'Child Safety Locks', 'Da...</td>\n",
       "      <td>0</td>\n",
       "    </tr>\n",
       "    <tr>\n",
       "      <th>1</th>\n",
       "      <td>1</td>\n",
       "      <td>['Power Steering', 'Power Windows Front', 'Air...</td>\n",
       "      <td>['Power Steering', 'Power Windows Front', 'Pow...</td>\n",
       "      <td>['Air Conditioner', 'Heater', 'Adjustable Stee...</td>\n",
       "      <td>['Adjustable Head Lights', 'Fog Lights Front',...</td>\n",
       "      <td>['Anti Lock Braking System', 'Centeral Locking...</td>\n",
       "      <td>['Cd Player', 'Radio', 'Speakers Front', 'Spea...</td>\n",
       "    </tr>\n",
       "  </tbody>\n",
       "</table>\n",
       "</div>"
      ],
      "text/plain": [
       "   Unnamed: 0                                           Features  \\\n",
       "0           0  ['Power Steering', 'Power Windows Front', 'Air...   \n",
       "1           1  ['Power Steering', 'Power Windows Front', 'Air...   \n",
       "\n",
       "                               Comfort & Convenience  \\\n",
       "0  ['Power Steering', 'Power Windows Front', 'Pow...   \n",
       "1  ['Power Steering', 'Power Windows Front', 'Pow...   \n",
       "\n",
       "                                            Interior  \\\n",
       "0  ['Air Conditioner', 'Heater', 'Digital Odomete...   \n",
       "1  ['Air Conditioner', 'Heater', 'Adjustable Stee...   \n",
       "\n",
       "                                            Exterior  \\\n",
       "0  ['Adjustable Head Lights', 'Manually Adjustabl...   \n",
       "1  ['Adjustable Head Lights', 'Fog Lights Front',...   \n",
       "\n",
       "                                              Safety  \\\n",
       "0  ['Centeral Locking', 'Child Safety Locks', 'Da...   \n",
       "1  ['Anti Lock Braking System', 'Centeral Locking...   \n",
       "\n",
       "                       Entertainment & Communication  \n",
       "0                                                  0  \n",
       "1  ['Cd Player', 'Radio', 'Speakers Front', 'Spea...  "
      ]
     },
     "execution_count": 10,
     "metadata": {},
     "output_type": "execute_result"
    }
   ],
   "source": [
    "feature_df.head(2)"
   ]
  },
  {
   "cell_type": "code",
   "execution_count": 31,
   "metadata": {},
   "outputs": [
    {
     "data": {
      "text/plain": [
       "dtype('O')"
      ]
     },
     "execution_count": 31,
     "metadata": {},
     "output_type": "execute_result"
    }
   ],
   "source": [
    "feature_df['Features'].dtype"
   ]
  },
  {
   "cell_type": "code",
   "execution_count": 11,
   "metadata": {},
   "outputs": [
    {
     "data": {
      "text/html": [
       "<div>\n",
       "<style scoped>\n",
       "    .dataframe tbody tr th:only-of-type {\n",
       "        vertical-align: middle;\n",
       "    }\n",
       "\n",
       "    .dataframe tbody tr th {\n",
       "        vertical-align: top;\n",
       "    }\n",
       "\n",
       "    .dataframe thead th {\n",
       "        text-align: right;\n",
       "    }\n",
       "</style>\n",
       "<table border=\"1\" class=\"dataframe\">\n",
       "  <thead>\n",
       "    <tr style=\"text-align: right;\">\n",
       "      <th></th>\n",
       "      <th>Unnamed: 0</th>\n",
       "      <th>Features</th>\n",
       "      <th>Comfort &amp; Convenience</th>\n",
       "      <th>Interior</th>\n",
       "      <th>Exterior</th>\n",
       "      <th>Safety</th>\n",
       "      <th>Entertainment &amp; Communication</th>\n",
       "      <th>Feature_i</th>\n",
       "      <th>Feature_W</th>\n",
       "      <th>Feature_A</th>\n",
       "      <th>...</th>\n",
       "      <th>Feature_C</th>\n",
       "      <th>Feature_</th>\n",
       "      <th>Feature_f</th>\n",
       "      <th>Feature_D</th>\n",
       "      <th>Feature_B</th>\n",
       "      <th>Feature_v</th>\n",
       "      <th>Feature_Q</th>\n",
       "      <th>Feature_O</th>\n",
       "      <th>Feature_z</th>\n",
       "      <th>Feature_j</th>\n",
       "    </tr>\n",
       "  </thead>\n",
       "  <tbody>\n",
       "    <tr>\n",
       "      <th>0</th>\n",
       "      <td>0</td>\n",
       "      <td>['Power Steering', 'Power Windows Front', 'Air...</td>\n",
       "      <td>['Power Steering', 'Power Windows Front', 'Pow...</td>\n",
       "      <td>['Air Conditioner', 'Heater', 'Digital Odomete...</td>\n",
       "      <td>['Adjustable Head Lights', 'Manually Adjustabl...</td>\n",
       "      <td>['Centeral Locking', 'Child Safety Locks', 'Da...</td>\n",
       "      <td>0</td>\n",
       "      <td>1</td>\n",
       "      <td>1</td>\n",
       "      <td>1</td>\n",
       "      <td>...</td>\n",
       "      <td>1</td>\n",
       "      <td>1</td>\n",
       "      <td>1</td>\n",
       "      <td>0</td>\n",
       "      <td>0</td>\n",
       "      <td>0</td>\n",
       "      <td>0</td>\n",
       "      <td>0</td>\n",
       "      <td>0</td>\n",
       "      <td>1</td>\n",
       "    </tr>\n",
       "    <tr>\n",
       "      <th>1</th>\n",
       "      <td>1</td>\n",
       "      <td>['Power Steering', 'Power Windows Front', 'Air...</td>\n",
       "      <td>['Power Steering', 'Power Windows Front', 'Pow...</td>\n",
       "      <td>['Air Conditioner', 'Heater', 'Adjustable Stee...</td>\n",
       "      <td>['Adjustable Head Lights', 'Fog Lights Front',...</td>\n",
       "      <td>['Anti Lock Braking System', 'Centeral Locking...</td>\n",
       "      <td>['Cd Player', 'Radio', 'Speakers Front', 'Spea...</td>\n",
       "      <td>1</td>\n",
       "      <td>1</td>\n",
       "      <td>1</td>\n",
       "      <td>...</td>\n",
       "      <td>1</td>\n",
       "      <td>1</td>\n",
       "      <td>0</td>\n",
       "      <td>0</td>\n",
       "      <td>1</td>\n",
       "      <td>0</td>\n",
       "      <td>0</td>\n",
       "      <td>0</td>\n",
       "      <td>0</td>\n",
       "      <td>1</td>\n",
       "    </tr>\n",
       "  </tbody>\n",
       "</table>\n",
       "<p>2 rows × 59 columns</p>\n",
       "</div>"
      ],
      "text/plain": [
       "   Unnamed: 0                                           Features  \\\n",
       "0           0  ['Power Steering', 'Power Windows Front', 'Air...   \n",
       "1           1  ['Power Steering', 'Power Windows Front', 'Air...   \n",
       "\n",
       "                               Comfort & Convenience  \\\n",
       "0  ['Power Steering', 'Power Windows Front', 'Pow...   \n",
       "1  ['Power Steering', 'Power Windows Front', 'Pow...   \n",
       "\n",
       "                                            Interior  \\\n",
       "0  ['Air Conditioner', 'Heater', 'Digital Odomete...   \n",
       "1  ['Air Conditioner', 'Heater', 'Adjustable Stee...   \n",
       "\n",
       "                                            Exterior  \\\n",
       "0  ['Adjustable Head Lights', 'Manually Adjustabl...   \n",
       "1  ['Adjustable Head Lights', 'Fog Lights Front',...   \n",
       "\n",
       "                                              Safety  \\\n",
       "0  ['Centeral Locking', 'Child Safety Locks', 'Da...   \n",
       "1  ['Anti Lock Braking System', 'Centeral Locking...   \n",
       "\n",
       "                       Entertainment & Communication  Feature_i  Feature_W  \\\n",
       "0                                                  0          1          1   \n",
       "1  ['Cd Player', 'Radio', 'Speakers Front', 'Spea...          1          1   \n",
       "\n",
       "   Feature_A  ...  Feature_C  Feature_   Feature_f  Feature_D  Feature_B  \\\n",
       "0          1  ...          1          1          1          0          0   \n",
       "1          1  ...          1          1          0          0          1   \n",
       "\n",
       "   Feature_v  Feature_Q  Feature_O  Feature_z  Feature_j  \n",
       "0          0          0          0          0          1  \n",
       "1          0          0          0          0          1  \n",
       "\n",
       "[2 rows x 59 columns]"
      ]
     },
     "execution_count": 11,
     "metadata": {},
     "output_type": "execute_result"
    }
   ],
   "source": [
    "feature_features = set(feature for sublist in feature_df['Features'] for feature in sublist)\n",
    "for feature in feature_features:\n",
    "    feature_df[f'Feature_{feature}'] = feature_df['Features'].apply(lambda x: 1 if feature in x else 0)\n",
    "feature_df.head(2)"
   ]
  },
  {
   "cell_type": "code",
   "execution_count": 35,
   "metadata": {},
   "outputs": [
    {
     "data": {
      "text/plain": [
       "dtype('O')"
      ]
     },
     "execution_count": 35,
     "metadata": {},
     "output_type": "execute_result"
    }
   ],
   "source": [
    "feature_df['Safety'] =  feature_df['Safety'].astype(str)\n",
    "feature_df['Safety'].dtype"
   ]
  },
  {
   "cell_type": "code",
   "execution_count": null,
   "metadata": {},
   "outputs": [],
   "source": []
  },
  {
   "cell_type": "markdown",
   "metadata": {},
   "source": [
    "Sample Code"
   ]
  },
  {
   "cell_type": "code",
   "execution_count": 12,
   "metadata": {},
   "outputs": [],
   "source": [
    "feature_df.drop(columns=['Safety','Features','Comfort & Convenience','Interior','Exterior','Entertainment & Communication'],inplace=True)"
   ]
  },
  {
   "cell_type": "code",
   "execution_count": 13,
   "metadata": {},
   "outputs": [],
   "source": [
    "feature_df.drop('Unnamed: 0',axis=1,inplace=True)"
   ]
  },
  {
   "cell_type": "code",
   "execution_count": 14,
   "metadata": {},
   "outputs": [
    {
     "data": {
      "text/html": [
       "<div>\n",
       "<style scoped>\n",
       "    .dataframe tbody tr th:only-of-type {\n",
       "        vertical-align: middle;\n",
       "    }\n",
       "\n",
       "    .dataframe tbody tr th {\n",
       "        vertical-align: top;\n",
       "    }\n",
       "\n",
       "    .dataframe thead th {\n",
       "        text-align: right;\n",
       "    }\n",
       "</style>\n",
       "<table border=\"1\" class=\"dataframe\">\n",
       "  <thead>\n",
       "    <tr style=\"text-align: right;\">\n",
       "      <th></th>\n",
       "      <th>Unnamed: 0</th>\n",
       "      <th>Insurance Validity</th>\n",
       "      <th>Fuel Type</th>\n",
       "      <th>Year of Manufacture</th>\n",
       "      <th>bt</th>\n",
       "      <th>km</th>\n",
       "      <th>transmission</th>\n",
       "      <th>ownerNo</th>\n",
       "      <th>oem</th>\n",
       "      <th>model</th>\n",
       "      <th>...</th>\n",
       "      <th>Feature_C</th>\n",
       "      <th>Feature_</th>\n",
       "      <th>Feature_f</th>\n",
       "      <th>Feature_D</th>\n",
       "      <th>Feature_B</th>\n",
       "      <th>Feature_v</th>\n",
       "      <th>Feature_Q</th>\n",
       "      <th>Feature_O</th>\n",
       "      <th>Feature_z</th>\n",
       "      <th>Feature_j</th>\n",
       "    </tr>\n",
       "  </thead>\n",
       "  <tbody>\n",
       "    <tr>\n",
       "      <th>8</th>\n",
       "      <td>8.0</td>\n",
       "      <td>2.0</td>\n",
       "      <td>4.0</td>\n",
       "      <td>2018.0</td>\n",
       "      <td>8.0</td>\n",
       "      <td>37000.0</td>\n",
       "      <td>0.0</td>\n",
       "      <td>1.0</td>\n",
       "      <td>20.0</td>\n",
       "      <td>163.0</td>\n",
       "      <td>...</td>\n",
       "      <td>1</td>\n",
       "      <td>1</td>\n",
       "      <td>0</td>\n",
       "      <td>0</td>\n",
       "      <td>1</td>\n",
       "      <td>0</td>\n",
       "      <td>0</td>\n",
       "      <td>0</td>\n",
       "      <td>0</td>\n",
       "      <td>1</td>\n",
       "    </tr>\n",
       "    <tr>\n",
       "      <th>10</th>\n",
       "      <td>10.0</td>\n",
       "      <td>5.0</td>\n",
       "      <td>4.0</td>\n",
       "      <td>2018.0</td>\n",
       "      <td>2.0</td>\n",
       "      <td>50000.0</td>\n",
       "      <td>1.0</td>\n",
       "      <td>1.0</td>\n",
       "      <td>20.0</td>\n",
       "      <td>157.0</td>\n",
       "      <td>...</td>\n",
       "      <td>1</td>\n",
       "      <td>1</td>\n",
       "      <td>0</td>\n",
       "      <td>0</td>\n",
       "      <td>1</td>\n",
       "      <td>0</td>\n",
       "      <td>0</td>\n",
       "      <td>0</td>\n",
       "      <td>0</td>\n",
       "      <td>1</td>\n",
       "    </tr>\n",
       "  </tbody>\n",
       "</table>\n",
       "<p>2 rows × 88 columns</p>\n",
       "</div>"
      ],
      "text/plain": [
       "    Unnamed: 0  Insurance Validity  Fuel Type  Year of Manufacture   bt  \\\n",
       "8          8.0                 2.0        4.0               2018.0  8.0   \n",
       "10        10.0                 5.0        4.0               2018.0  2.0   \n",
       "\n",
       "         km  transmission  ownerNo   oem  model  ...  Feature_C  Feature_   \\\n",
       "8   37000.0           0.0      1.0  20.0  163.0  ...          1          1   \n",
       "10  50000.0           1.0      1.0  20.0  157.0  ...          1          1   \n",
       "\n",
       "    Feature_f  Feature_D  Feature_B  Feature_v  Feature_Q  Feature_O  \\\n",
       "8           0          0          1          0          0          0   \n",
       "10          0          0          1          0          0          0   \n",
       "\n",
       "    Feature_z  Feature_j  \n",
       "8           0          1  \n",
       "10          0          1  \n",
       "\n",
       "[2 rows x 88 columns]"
      ]
     },
     "execution_count": 14,
     "metadata": {},
     "output_type": "execute_result"
    }
   ],
   "source": [
    "df = pd.concat([balance_df,feature_df],axis=1)\n",
    "df.head(2)"
   ]
  },
  {
   "cell_type": "code",
   "execution_count": 41,
   "metadata": {},
   "outputs": [
    {
     "data": {
      "text/plain": [
       "Unnamed: 0              0\n",
       "Insurance Validity      0\n",
       "Fuel Type               0\n",
       "Year of Manufacture    20\n",
       "bt                      0\n",
       "                       ..\n",
       "Feature_e               0\n",
       "Feature_i               0\n",
       "Feature_G               0\n",
       "Feature_k               0\n",
       "Feature_[               0\n",
       "Length: 88, dtype: int64"
      ]
     },
     "execution_count": 41,
     "metadata": {},
     "output_type": "execute_result"
    }
   ],
   "source": [
    "df.isna().sum()"
   ]
  },
  {
   "cell_type": "code",
   "execution_count": 16,
   "metadata": {},
   "outputs": [],
   "source": [
    "df.dropna(inplace=True)"
   ]
  },
  {
   "cell_type": "code",
   "execution_count": 17,
   "metadata": {},
   "outputs": [],
   "source": [
    "from sklearn.cluster import KMeans\n",
    "k_means = KMeans(n_clusters=3, random_state=42)\n",
    "df['cluster'] = k_means.fit_predict(df.drop(columns=['price_in_lakhs','Unnamed: 0'],axis=1))"
   ]
  },
  {
   "cell_type": "code",
   "execution_count": 18,
   "metadata": {},
   "outputs": [
    {
     "data": {
      "text/html": [
       "<div>\n",
       "<style scoped>\n",
       "    .dataframe tbody tr th:only-of-type {\n",
       "        vertical-align: middle;\n",
       "    }\n",
       "\n",
       "    .dataframe tbody tr th {\n",
       "        vertical-align: top;\n",
       "    }\n",
       "\n",
       "    .dataframe thead th {\n",
       "        text-align: right;\n",
       "    }\n",
       "</style>\n",
       "<table border=\"1\" class=\"dataframe\">\n",
       "  <thead>\n",
       "    <tr style=\"text-align: right;\">\n",
       "      <th></th>\n",
       "      <th>Unnamed: 0</th>\n",
       "      <th>Insurance Validity</th>\n",
       "      <th>Fuel Type</th>\n",
       "      <th>Year of Manufacture</th>\n",
       "      <th>bt</th>\n",
       "      <th>km</th>\n",
       "      <th>transmission</th>\n",
       "      <th>ownerNo</th>\n",
       "      <th>oem</th>\n",
       "      <th>model</th>\n",
       "      <th>...</th>\n",
       "      <th>Feature_f</th>\n",
       "      <th>Feature_D</th>\n",
       "      <th>Feature_B</th>\n",
       "      <th>Feature_v</th>\n",
       "      <th>Feature_Q</th>\n",
       "      <th>Feature_O</th>\n",
       "      <th>Feature_z</th>\n",
       "      <th>Feature_j</th>\n",
       "      <th>cluster</th>\n",
       "      <th>price_in_lakhs_cluster_mean</th>\n",
       "    </tr>\n",
       "  </thead>\n",
       "  <tbody>\n",
       "    <tr>\n",
       "      <th>0</th>\n",
       "      <td>8.0</td>\n",
       "      <td>2.0</td>\n",
       "      <td>4.0</td>\n",
       "      <td>2018.0</td>\n",
       "      <td>8.0</td>\n",
       "      <td>37000.0</td>\n",
       "      <td>0.0</td>\n",
       "      <td>1.0</td>\n",
       "      <td>20.0</td>\n",
       "      <td>163.0</td>\n",
       "      <td>...</td>\n",
       "      <td>0</td>\n",
       "      <td>0</td>\n",
       "      <td>1</td>\n",
       "      <td>0</td>\n",
       "      <td>0</td>\n",
       "      <td>0</td>\n",
       "      <td>0</td>\n",
       "      <td>1</td>\n",
       "      <td>2</td>\n",
       "      <td>6.224613</td>\n",
       "    </tr>\n",
       "    <tr>\n",
       "      <th>1</th>\n",
       "      <td>10.0</td>\n",
       "      <td>5.0</td>\n",
       "      <td>4.0</td>\n",
       "      <td>2018.0</td>\n",
       "      <td>2.0</td>\n",
       "      <td>50000.0</td>\n",
       "      <td>1.0</td>\n",
       "      <td>1.0</td>\n",
       "      <td>20.0</td>\n",
       "      <td>157.0</td>\n",
       "      <td>...</td>\n",
       "      <td>0</td>\n",
       "      <td>0</td>\n",
       "      <td>1</td>\n",
       "      <td>0</td>\n",
       "      <td>0</td>\n",
       "      <td>0</td>\n",
       "      <td>0</td>\n",
       "      <td>1</td>\n",
       "      <td>0</td>\n",
       "      <td>5.513028</td>\n",
       "    </tr>\n",
       "  </tbody>\n",
       "</table>\n",
       "<p>2 rows × 90 columns</p>\n",
       "</div>"
      ],
      "text/plain": [
       "   Unnamed: 0  Insurance Validity  Fuel Type  Year of Manufacture   bt  \\\n",
       "0         8.0                 2.0        4.0               2018.0  8.0   \n",
       "1        10.0                 5.0        4.0               2018.0  2.0   \n",
       "\n",
       "        km  transmission  ownerNo   oem  model  ...  Feature_f  Feature_D  \\\n",
       "0  37000.0           0.0      1.0  20.0  163.0  ...          0          0   \n",
       "1  50000.0           1.0      1.0  20.0  157.0  ...          0          0   \n",
       "\n",
       "   Feature_B  Feature_v  Feature_Q  Feature_O  Feature_z  Feature_j  cluster  \\\n",
       "0          1          0          0          0          0          1        2   \n",
       "1          1          0          0          0          0          1        0   \n",
       "\n",
       "   price_in_lakhs_cluster_mean  \n",
       "0                     6.224613  \n",
       "1                     5.513028  \n",
       "\n",
       "[2 rows x 90 columns]"
      ]
     },
     "execution_count": 18,
     "metadata": {},
     "output_type": "execute_result"
    }
   ],
   "source": [
    "cluster_means = df.groupby('cluster')['price_in_lakhs'].mean().reset_index()\n",
    "df = df.merge(cluster_means, on='cluster', suffixes=('', '_cluster_mean'))\n",
    "df.head(2)"
   ]
  },
  {
   "cell_type": "code",
   "execution_count": 54,
   "metadata": {},
   "outputs": [],
   "source": [
    "final_df = balance_df[important_features_names]"
   ]
  },
  {
   "cell_type": "code",
   "execution_count": 55,
   "metadata": {},
   "outputs": [
    {
     "data": {
      "text/plain": [
       "(7697, 11)"
      ]
     },
     "execution_count": 55,
     "metadata": {},
     "output_type": "execute_result"
    }
   ],
   "source": [
    "final_df.shape"
   ]
  },
  {
   "cell_type": "code",
   "execution_count": 65,
   "metadata": {},
   "outputs": [
    {
     "name": "stdout",
     "output_type": "stream",
     "text": [
      "Mean Squared Error: 5.249370559681819\n"
     ]
    },
    {
     "data": {
      "text/plain": [
       "0.9376110775495605"
      ]
     },
     "execution_count": 65,
     "metadata": {},
     "output_type": "execute_result"
    }
   ],
   "source": [
    "from sklearn.model_selection import train_test_split\n",
    "from sklearn.ensemble import RandomForestRegressor\n",
    "from sklearn.metrics import mean_squared_error\n",
    "from sklearn.metrics import r2_score\n",
    "X = balance_df.drop(columns=['price_in_lakhs'],axis=1)\n",
    "y = balance_df['price_in_lakhs']\n",
    "X_train, X_test, y_train, y_test = train_test_split(X, y, test_size=0.2, random_state=42)\n",
    "\n",
    "model = RandomForestRegressor(random_state=42)\n",
    "model.fit(X_train, y_train)\n",
    "\n",
    "y_pred = model.predict(X_test)\n",
    "mse = mean_squared_error(y_test, y_pred)\n",
    "print(f'Mean Squared Error: {mse}')\n",
    "r2_score(y_test, y_pred)"
   ]
  },
  {
   "cell_type": "code",
   "execution_count": 66,
   "metadata": {},
   "outputs": [
    {
     "data": {
      "text/plain": [
       "Index(['Unnamed: 0', 'Insurance Validity', 'Fuel Type', 'Year of Manufacture',\n",
       "       'bt', 'km', 'transmission', 'ownerNo', 'oem', 'model', 'modelYear',\n",
       "       'centralVariantId', 'Wheel Size', 'Color', 'Displacement',\n",
       "       'No of Cylinder', 'Values per Cylinder', 'Fuel Suppy System',\n",
       "       'Turbo Charger', 'Length', 'Width', 'Drive Type', 'Seating Capacity',\n",
       "       'Steering Type', 'Front Brake Type', 'Rear Brake Type',\n",
       "       'Alloy Wheel Size', 'No Door Numbers', 'Mileage', 'Super Charger',\n",
       "       'Turning Radius', 'Top Speed', 'City', 'Registration Year New', 'Gear'],\n",
       "      dtype='object')"
      ]
     },
     "execution_count": 66,
     "metadata": {},
     "output_type": "execute_result"
    }
   ],
   "source": [
    "X.columns"
   ]
  },
  {
   "cell_type": "code",
   "execution_count": 67,
   "metadata": {},
   "outputs": [
    {
     "data": {
      "text/html": [
       "<div>\n",
       "<style scoped>\n",
       "    .dataframe tbody tr th:only-of-type {\n",
       "        vertical-align: middle;\n",
       "    }\n",
       "\n",
       "    .dataframe tbody tr th {\n",
       "        vertical-align: top;\n",
       "    }\n",
       "\n",
       "    .dataframe thead th {\n",
       "        text-align: right;\n",
       "    }\n",
       "</style>\n",
       "<table border=\"1\" class=\"dataframe\">\n",
       "  <thead>\n",
       "    <tr style=\"text-align: right;\">\n",
       "      <th></th>\n",
       "      <th>Feature</th>\n",
       "      <th>Importance</th>\n",
       "    </tr>\n",
       "  </thead>\n",
       "  <tbody>\n",
       "    <tr>\n",
       "      <th>20</th>\n",
       "      <td>Width</td>\n",
       "      <td>0.301263</td>\n",
       "    </tr>\n",
       "    <tr>\n",
       "      <th>34</th>\n",
       "      <td>Gear</td>\n",
       "      <td>0.297603</td>\n",
       "    </tr>\n",
       "    <tr>\n",
       "      <th>10</th>\n",
       "      <td>modelYear</td>\n",
       "      <td>0.074467</td>\n",
       "    </tr>\n",
       "    <tr>\n",
       "      <th>12</th>\n",
       "      <td>Wheel Size</td>\n",
       "      <td>0.063944</td>\n",
       "    </tr>\n",
       "    <tr>\n",
       "      <th>3</th>\n",
       "      <td>Year of Manufacture</td>\n",
       "      <td>0.060170</td>\n",
       "    </tr>\n",
       "    <tr>\n",
       "      <th>19</th>\n",
       "      <td>Length</td>\n",
       "      <td>0.033890</td>\n",
       "    </tr>\n",
       "    <tr>\n",
       "      <th>5</th>\n",
       "      <td>km</td>\n",
       "      <td>0.022462</td>\n",
       "    </tr>\n",
       "    <tr>\n",
       "      <th>31</th>\n",
       "      <td>Top Speed</td>\n",
       "      <td>0.016376</td>\n",
       "    </tr>\n",
       "    <tr>\n",
       "      <th>6</th>\n",
       "      <td>transmission</td>\n",
       "      <td>0.014925</td>\n",
       "    </tr>\n",
       "    <tr>\n",
       "      <th>14</th>\n",
       "      <td>Displacement</td>\n",
       "      <td>0.014215</td>\n",
       "    </tr>\n",
       "    <tr>\n",
       "      <th>11</th>\n",
       "      <td>centralVariantId</td>\n",
       "      <td>0.013457</td>\n",
       "    </tr>\n",
       "    <tr>\n",
       "      <th>30</th>\n",
       "      <td>Turning Radius</td>\n",
       "      <td>0.012366</td>\n",
       "    </tr>\n",
       "    <tr>\n",
       "      <th>33</th>\n",
       "      <td>Registration Year New</td>\n",
       "      <td>0.009443</td>\n",
       "    </tr>\n",
       "    <tr>\n",
       "      <th>22</th>\n",
       "      <td>Seating Capacity</td>\n",
       "      <td>0.007106</td>\n",
       "    </tr>\n",
       "    <tr>\n",
       "      <th>28</th>\n",
       "      <td>Mileage</td>\n",
       "      <td>0.006534</td>\n",
       "    </tr>\n",
       "    <tr>\n",
       "      <th>25</th>\n",
       "      <td>Rear Brake Type</td>\n",
       "      <td>0.006471</td>\n",
       "    </tr>\n",
       "    <tr>\n",
       "      <th>26</th>\n",
       "      <td>Alloy Wheel Size</td>\n",
       "      <td>0.005950</td>\n",
       "    </tr>\n",
       "    <tr>\n",
       "      <th>9</th>\n",
       "      <td>model</td>\n",
       "      <td>0.005613</td>\n",
       "    </tr>\n",
       "    <tr>\n",
       "      <th>0</th>\n",
       "      <td>Unnamed: 0</td>\n",
       "      <td>0.005532</td>\n",
       "    </tr>\n",
       "    <tr>\n",
       "      <th>32</th>\n",
       "      <td>City</td>\n",
       "      <td>0.005410</td>\n",
       "    </tr>\n",
       "    <tr>\n",
       "      <th>13</th>\n",
       "      <td>Color</td>\n",
       "      <td>0.003269</td>\n",
       "    </tr>\n",
       "    <tr>\n",
       "      <th>21</th>\n",
       "      <td>Drive Type</td>\n",
       "      <td>0.002775</td>\n",
       "    </tr>\n",
       "    <tr>\n",
       "      <th>17</th>\n",
       "      <td>Fuel Suppy System</td>\n",
       "      <td>0.002576</td>\n",
       "    </tr>\n",
       "    <tr>\n",
       "      <th>8</th>\n",
       "      <td>oem</td>\n",
       "      <td>0.002422</td>\n",
       "    </tr>\n",
       "    <tr>\n",
       "      <th>24</th>\n",
       "      <td>Front Brake Type</td>\n",
       "      <td>0.002037</td>\n",
       "    </tr>\n",
       "    <tr>\n",
       "      <th>4</th>\n",
       "      <td>bt</td>\n",
       "      <td>0.001715</td>\n",
       "    </tr>\n",
       "    <tr>\n",
       "      <th>18</th>\n",
       "      <td>Turbo Charger</td>\n",
       "      <td>0.001482</td>\n",
       "    </tr>\n",
       "    <tr>\n",
       "      <th>23</th>\n",
       "      <td>Steering Type</td>\n",
       "      <td>0.001327</td>\n",
       "    </tr>\n",
       "    <tr>\n",
       "      <th>1</th>\n",
       "      <td>Insurance Validity</td>\n",
       "      <td>0.001222</td>\n",
       "    </tr>\n",
       "    <tr>\n",
       "      <th>29</th>\n",
       "      <td>Super Charger</td>\n",
       "      <td>0.000948</td>\n",
       "    </tr>\n",
       "    <tr>\n",
       "      <th>2</th>\n",
       "      <td>Fuel Type</td>\n",
       "      <td>0.000907</td>\n",
       "    </tr>\n",
       "    <tr>\n",
       "      <th>7</th>\n",
       "      <td>ownerNo</td>\n",
       "      <td>0.000891</td>\n",
       "    </tr>\n",
       "    <tr>\n",
       "      <th>15</th>\n",
       "      <td>No of Cylinder</td>\n",
       "      <td>0.000643</td>\n",
       "    </tr>\n",
       "    <tr>\n",
       "      <th>27</th>\n",
       "      <td>No Door Numbers</td>\n",
       "      <td>0.000592</td>\n",
       "    </tr>\n",
       "    <tr>\n",
       "      <th>16</th>\n",
       "      <td>Values per Cylinder</td>\n",
       "      <td>0.000000</td>\n",
       "    </tr>\n",
       "  </tbody>\n",
       "</table>\n",
       "</div>"
      ],
      "text/plain": [
       "                  Feature  Importance\n",
       "20                  Width    0.301263\n",
       "34                   Gear    0.297603\n",
       "10              modelYear    0.074467\n",
       "12             Wheel Size    0.063944\n",
       "3     Year of Manufacture    0.060170\n",
       "19                 Length    0.033890\n",
       "5                      km    0.022462\n",
       "31              Top Speed    0.016376\n",
       "6            transmission    0.014925\n",
       "14           Displacement    0.014215\n",
       "11       centralVariantId    0.013457\n",
       "30         Turning Radius    0.012366\n",
       "33  Registration Year New    0.009443\n",
       "22       Seating Capacity    0.007106\n",
       "28                Mileage    0.006534\n",
       "25        Rear Brake Type    0.006471\n",
       "26       Alloy Wheel Size    0.005950\n",
       "9                   model    0.005613\n",
       "0              Unnamed: 0    0.005532\n",
       "32                   City    0.005410\n",
       "13                  Color    0.003269\n",
       "21             Drive Type    0.002775\n",
       "17      Fuel Suppy System    0.002576\n",
       "8                     oem    0.002422\n",
       "24       Front Brake Type    0.002037\n",
       "4                      bt    0.001715\n",
       "18          Turbo Charger    0.001482\n",
       "23          Steering Type    0.001327\n",
       "1      Insurance Validity    0.001222\n",
       "29          Super Charger    0.000948\n",
       "2               Fuel Type    0.000907\n",
       "7                 ownerNo    0.000891\n",
       "15         No of Cylinder    0.000643\n",
       "27        No Door Numbers    0.000592\n",
       "16    Values per Cylinder    0.000000"
      ]
     },
     "execution_count": 67,
     "metadata": {},
     "output_type": "execute_result"
    }
   ],
   "source": [
    "importances = model.feature_importances_\n",
    "feature_importances = pd.DataFrame({'Feature': X.columns, 'Importance': importances})\n",
    "feature_importances = feature_importances.sort_values(by='Importance', ascending=False)\n",
    "feature_importances"
   ]
  },
  {
   "cell_type": "code",
   "execution_count": 69,
   "metadata": {},
   "outputs": [
    {
     "data": {
      "text/plain": [
       "20"
      ]
     },
     "execution_count": 69,
     "metadata": {},
     "output_type": "execute_result"
    }
   ],
   "source": [
    "important_features = feature_importances[feature_importances['Importance'] > 0.005]\n",
    "len(important_features)"
   ]
  },
  {
   "cell_type": "code",
   "execution_count": 60,
   "metadata": {},
   "outputs": [],
   "source": [
    "important_features_names = important_features['Feature'].values"
   ]
  },
  {
   "cell_type": "code",
   "execution_count": 70,
   "metadata": {},
   "outputs": [
    {
     "data": {
      "text/plain": [
       "array(['Width', 'Gear', 'Year of Manufacture', 'Wheel Size', 'modelYear',\n",
       "       'Length', 'km', 'Top Speed', 'transmission', 'Displacement',\n",
       "       'centralVariantId', 'Turning Radius'], dtype=object)"
      ]
     },
     "execution_count": 70,
     "metadata": {},
     "output_type": "execute_result"
    }
   ],
   "source": [
    "important_features_names"
   ]
  },
  {
   "cell_type": "code",
   "execution_count": 35,
   "metadata": {},
   "outputs": [],
   "source": [
    "feature_names = [f\"feature {i}\" for i in range(X.shape[1])]\n"
   ]
  },
  {
   "cell_type": "code",
   "execution_count": 31,
   "metadata": {},
   "outputs": [
    {
     "name": "stdout",
     "output_type": "stream",
     "text": [
      "Feature: 0, Score: 0.00130\n",
      "Feature: 1, Score: 0.00102\n",
      "Feature: 2, Score: 0.07657\n",
      "Feature: 3, Score: 0.00184\n",
      "Feature: 4, Score: 0.02330\n",
      "Feature: 5, Score: 0.01498\n",
      "Feature: 6, Score: 0.00109\n",
      "Feature: 7, Score: 0.00236\n",
      "Feature: 8, Score: 0.00599\n",
      "Feature: 9, Score: 0.05847\n",
      "Feature: 10, Score: 0.01379\n",
      "Feature: 11, Score: 0.06421\n",
      "Feature: 12, Score: 0.00366\n",
      "Feature: 13, Score: 0.01447\n",
      "Feature: 14, Score: 0.00050\n",
      "Feature: 15, Score: 0.00000\n",
      "Feature: 16, Score: 0.00279\n",
      "Feature: 17, Score: 0.00149\n",
      "Feature: 18, Score: 0.03424\n",
      "Feature: 19, Score: 0.30137\n",
      "Feature: 20, Score: 0.00275\n",
      "Feature: 21, Score: 0.00727\n",
      "Feature: 22, Score: 0.00124\n",
      "Feature: 23, Score: 0.00210\n",
      "Feature: 24, Score: 0.00656\n",
      "Feature: 25, Score: 0.00610\n",
      "Feature: 26, Score: 0.00057\n",
      "Feature: 27, Score: 0.00676\n",
      "Feature: 28, Score: 0.00094\n",
      "Feature: 29, Score: 0.01268\n",
      "Feature: 30, Score: 0.01643\n",
      "Feature: 31, Score: 0.00591\n",
      "Feature: 32, Score: 0.00968\n",
      "Feature: 33, Score: 0.29757\n"
     ]
    },
    {
     "data": {
      "text/plain": [
       "<BarContainer object of 34 artists>"
      ]
     },
     "execution_count": 31,
     "metadata": {},
     "output_type": "execute_result"
    },
    {
     "data": {
      "image/png": "[encoded data removed]",
      "text/plain": [
       "<Figure size 640x480 with 1 Axes>"
      ]
     },
     "metadata": {},
     "output_type": "display_data"
    }
   ],
   "source": [
    "#feature_importance\n",
    "import matplotlib.pyplot as plt\n",
    "importance = model.feature_importances_\n",
    "for i,v in enumerate(importance):\n",
    "    print('Feature: %0d, Score: %.5f' % (i,v))\n",
    "\n",
    "plt.bar([x for x in range(len(importance))], importance)"
   ]
  },
  {
   "cell_type": "code",
   "execution_count": 33,
   "metadata": {},
   "outputs": [
    {
     "ename": "IndexError",
     "evalue": "index 19 is out of bounds for axis 0 with size 7",
     "output_type": "error",
     "traceback": [
      "\u001b[1;31m---------------------------------------------------------------------------\u001b[0m",
      "\u001b[1;31mIndexError\u001b[0m                                Traceback (most recent call last)",
      "Cell \u001b[1;32mIn[33], line 9\u001b[0m\n\u001b[0;32m      6\u001b[0m indices \u001b[38;5;241m=\u001b[39m np\u001b[38;5;241m.\u001b[39margsort(importance)[::\u001b[38;5;241m-\u001b[39m\u001b[38;5;241m1\u001b[39m][:\u001b[38;5;241m10\u001b[39m]\n\u001b[0;32m      8\u001b[0m \u001b[38;5;28;01mfor\u001b[39;00m i \u001b[38;5;129;01min\u001b[39;00m indices:\n\u001b[1;32m----> 9\u001b[0m     \u001b[38;5;28mprint\u001b[39m(\u001b[43mfeature_df\u001b[49m\u001b[38;5;241;43m.\u001b[39;49m\u001b[43mcolumns\u001b[49m\u001b[43m[\u001b[49m\u001b[43mi\u001b[49m\u001b[43m]\u001b[49m, importance[i])\n\u001b[0;32m     11\u001b[0m plt\u001b[38;5;241m.\u001b[39mbar([x \u001b[38;5;28;01mfor\u001b[39;00m x \u001b[38;5;129;01min\u001b[39;00m \u001b[38;5;28mrange\u001b[39m(\u001b[38;5;28mlen\u001b[39m(importance))], importance)\n",
      "File \u001b[1;32ms:\\Car\\.venv\\Lib\\site-packages\\pandas\\core\\indexes\\base.py:5389\u001b[0m, in \u001b[0;36mIndex.__getitem__\u001b[1;34m(self, key)\u001b[0m\n\u001b[0;32m   5386\u001b[0m \u001b[38;5;28;01mif\u001b[39;00m is_integer(key) \u001b[38;5;129;01mor\u001b[39;00m is_float(key):\n\u001b[0;32m   5387\u001b[0m     \u001b[38;5;66;03m# GH#44051 exclude bool, which would return a 2d ndarray\u001b[39;00m\n\u001b[0;32m   5388\u001b[0m     key \u001b[38;5;241m=\u001b[39m com\u001b[38;5;241m.\u001b[39mcast_scalar_indexer(key)\n\u001b[1;32m-> 5389\u001b[0m     \u001b[38;5;28;01mreturn\u001b[39;00m \u001b[43mgetitem\u001b[49m\u001b[43m(\u001b[49m\u001b[43mkey\u001b[49m\u001b[43m)\u001b[49m\n\u001b[0;32m   5391\u001b[0m \u001b[38;5;28;01mif\u001b[39;00m \u001b[38;5;28misinstance\u001b[39m(key, \u001b[38;5;28mslice\u001b[39m):\n\u001b[0;32m   5392\u001b[0m     \u001b[38;5;66;03m# This case is separated from the conditional above to avoid\u001b[39;00m\n\u001b[0;32m   5393\u001b[0m     \u001b[38;5;66;03m# pessimization com.is_bool_indexer and ndim checks.\u001b[39;00m\n\u001b[0;32m   5394\u001b[0m     \u001b[38;5;28;01mreturn\u001b[39;00m \u001b[38;5;28mself\u001b[39m\u001b[38;5;241m.\u001b[39m_getitem_slice(key)\n",
      "\u001b[1;31mIndexError\u001b[0m: index 19 is out of bounds for axis 0 with size 7"
     ]
    }
   ],
   "source": [
    "# take top 10 features with name of the feature\n",
    "import numpy as np\n",
    "\n",
    "importance = model.feature_importances_\n",
    "\n",
    "indices = np.argsort(importance)[::-1][:10]\n",
    "\n",
    "for i in indices:\n",
    "    print(feature_df.columns[i], importance[i])\n",
    "\n",
    "plt.bar([x for x in range(len(importance))], importance)"
   ]
  },
  {
   "cell_type": "code",
   "execution_count": null,
   "metadata": {},
   "outputs": [],
   "source": [
    "# Aggregating continuous variable by clusters\n",
    "cluster_means = df.groupby('cluster')['target'].mean().reset_index()\n",
    "df = df.merge(cluster_means, on='cluster', suffixes=('', '_cluster_mean'))\n",
    "\n",
    "# Splitting data for supervised learning\n",
    "X = df.drop(columns=['target', 'safety'])\n",
    "y = df['target']\n",
    "X_train, X_test, y_train, y_test = train_test_split(X, y, test_size=0.2, random_state=42)\n",
    "\n",
    "# Training a regression model\n",
    "model = RandomForestRegressor(random_state=42)\n",
    "model.fit(X_train, y_train)\n",
    "\n",
    "# Predicting and evaluating the model\n",
    "y_pred = model.predict(X_test)\n",
    "mse = mean_squared_error(y_test, y_pred)\n",
    "print(f'Mean Squared Error: {mse}')"
   ]
  },
  {
   "cell_type": "code",
   "execution_count": null,
   "metadata": {},
   "outputs": [],
   "source": [
    "import pandas as pd\n",
    "from sklearn.preprocessing import OneHotEncoder\n",
    "from sklearn.cluster import KMeans\n",
    "from sklearn.model_selection import train_test_split\n",
    "from sklearn.ensemble import RandomForestRegressor\n",
    "from sklearn.metrics import mean_squared_error\n",
    "\n",
    "# Sample DataFrame\n",
    "df = pd.DataFrame({\n",
    "    'category1': ['A', 'B', 'A', 'C'],\n",
    "    'category2': ['X', 'Y', 'X', 'Z'],\n",
    "    'safety': [['feature1', 'feature2'], ['feature2', 'feature3'], ['feature1'], ['feature1', 'feature3']],\n",
    "    'target': [10, 20, 30, 40]\n",
    "})\n",
    "\n",
    "# One-Hot Encoding categorical variables\n",
    "encoder = OneHotEncoder(sparse=False)\n",
    "encoded_features = encoder.fit_transform(df[['category1', 'category2']])\n",
    "\n",
    "# Handling list of categories (e.g., safety features)\n",
    "safety_features = set(feature for sublist in df['safety'] for feature in sublist)\n",
    "for feature in safety_features:\n",
    "    df[f'safety_{feature}'] = df['safety'].apply(lambda x: 1 if feature in x else 0)\n",
    "\n",
    "# Combine encoded features with safety features\n",
    "encoded_df = pd.DataFrame(encoded_features, columns=encoder.get_feature_names(['category1', 'category2']))\n",
    "df = pd.concat([df, encoded_df], axis=1)\n",
    "\n",
    "# Clustering\n",
    "kmeans = KMeans(n_clusters=2, random_state=42)\n",
    "df['cluster'] = kmeans.fit_predict(df.drop(columns=['safety', 'target']))\n",
    "\n",
    "# Aggregating continuous variable by clusters\n",
    "cluster_means = df.groupby('cluster')['target'].mean().reset_index()\n",
    "df = df.merge(cluster_means, on='cluster', suffixes=('', '_cluster_mean'))\n",
    "\n",
    "# Splitting data for supervised learning\n",
    "X = df.drop(columns=['target', 'safety'])\n",
    "y = df['target']\n",
    "X_train, X_test, y_train, y_test = train_test_split(X, y, test_size=0.2, random_state=42)\n",
    "\n",
    "# Training a regression model\n",
    "model = RandomForestRegressor(random_state=42)\n",
    "model.fit(X_train, y_train)\n",
    "\n",
    "# Predicting and evaluating the model\n",
    "y_pred = model.predict(X_test)\n",
    "mse = mean_squared_error(y_test, y_pred)\n",
    "print(f'Mean Squared Error: {mse}')\n"
   ]
  }
 ],
 "metadata": {
  "kernelspec": {
   "display_name": ".venv",
   "language": "python",
   "name": "python3"
  },
  "language_info": {
   "codemirror_mode": {
    "name": "ipython",
    "version": 3
   },
   "file_extension": ".py",
   "mimetype": "text/x-python",
   "name": "python",
   "nbconvert_exporter": "python",
   "pygments_lexer": "ipython3",
   "version": "3.12.4"
  }
 },
 "nbformat": 4,
 "nbformat_minor": 2
}
