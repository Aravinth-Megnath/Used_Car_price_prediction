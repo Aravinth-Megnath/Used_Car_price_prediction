{
 "cells": [
  {
   "cell_type": "code",
   "execution_count": 2,
   "metadata": {},
   "outputs": [],
   "source": [
    "import pandas as pd "
   ]
  },
  {
   "cell_type": "code",
   "execution_count": 3,
   "metadata": {},
   "outputs": [],
   "source": [
    "bangalore_df = pd.read_excel(r\"S:\\Car\\ML ready data\\bangalore_car_detail.xlsx\")\n",
    "chennai_df = pd.read_excel(r\"S:\\Car\\ML ready data\\chennai_car_detail.xlsx\")\n",
    "delhi_df = pd.read_excel(r\"S:\\Car\\ML ready data\\delhi_car_detail.xlsx\")\n",
    "hyderabad_df = pd.read_excel(r\"S:\\Car\\ML ready data\\hyderabad_car_detail.xlsx\")\n",
    "jaipur_df = pd.read_excel(r\"S:\\Car\\ML ready data\\jaipur_car_detail.xlsx\")\n",
    "kolkata_df = pd.read_excel(r\"S:\\Car\\ML ready data\\Kolkata_car_detail.xlsx\")"
   ]
  },
  {
   "cell_type": "code",
   "execution_count": 4,
   "metadata": {},
   "outputs": [],
   "source": [
    "chennai_df['City'] = 'Chennai'\n",
    "delhi_df['City'] = 'Delhi'\n",
    "hyderabad_df['City'] = 'Hyderabad'\n",
    "jaipur_df['City'] = 'Jaipur'\n",
    "kolkata_df['City'] = 'Kolkata'\n",
    "bangalore_df['City'] = 'Bangalore'"
   ]
  },
  {
   "cell_type": "code",
   "execution_count": 5,
   "metadata": {},
   "outputs": [
    {
     "name": "stdout",
     "output_type": "stream",
     "text": [
      "(8369, 75)\n"
     ]
    },
    {
     "data": {
      "text/plain": [
       "City\n",
       "Delhi        1485\n",
       "Hyderabad    1483\n",
       "Bangalore    1481\n",
       "Chennai      1419\n",
       "Kolkata      1381\n",
       "Jaipur       1120\n",
       "Name: count, dtype: int64"
      ]
     },
     "execution_count": 5,
     "metadata": {},
     "output_type": "execute_result"
    }
   ],
   "source": [
    "df = pd.concat([bangalore_df,chennai_df,delhi_df,hyderabad_df,jaipur_df,kolkata_df])\n",
    "print(df.shape) # \n",
    "df.City.value_counts(dropna=False)"
   ]
  },
  {
   "cell_type": "code",
   "execution_count": 6,
   "metadata": {},
   "outputs": [],
   "source": [
    "def convert_to_lakhs(price):\n",
    "    price = price.replace('₹', '').replace(',', '').strip()\n",
    "    if 'Crore' in price:\n",
    "        return float(price.replace('Crore', '').strip()) * 100\n",
    "    elif 'Lakh' in price:\n",
    "        return float(price.replace('Lakh', '').strip())     \n",
    "    else:\n",
    "        return float(price)/100"
   ]
  },
  {
   "cell_type": "code",
   "execution_count": 7,
   "metadata": {},
   "outputs": [],
   "source": [
    "df.loc[:,'price_in_lakhs'] = df['price'].apply(convert_to_lakhs)"
   ]
  },
  {
   "cell_type": "code",
   "execution_count": 8,
   "metadata": {},
   "outputs": [
    {
     "data": {
      "text/plain": [
       "count    8369.000000\n",
       "mean       18.359159\n",
       "std        79.364616\n",
       "min         1.000000\n",
       "25%         4.040000\n",
       "50%         6.200000\n",
       "75%         9.830000\n",
       "max       997.030000\n",
       "Name: price_in_lakhs, dtype: float64"
      ]
     },
     "execution_count": 8,
     "metadata": {},
     "output_type": "execute_result"
    }
   ],
   "source": [
    "df['price_in_lakhs'].describe()"
   ]
  },
  {
   "cell_type": "code",
   "execution_count": 9,
   "metadata": {},
   "outputs": [
    {
     "data": {
      "text/plain": [
       "model\n",
       "Honda City              370\n",
       "Maruti Swift            350\n",
       "Hyundai i20             331\n",
       "Maruti Baleno           295\n",
       "Hyundai Grand i10       260\n",
       "                       ... \n",
       "Volkswagen CrossPolo      1\n",
       "Tata Sumo Victa           1\n",
       "Mercedes-Benz AMG GT      1\n",
       "Audi S5 Sportback         1\n",
       "Jaguar F-TYPE             1\n",
       "Name: count, Length: 315, dtype: int64"
      ]
     },
     "execution_count": 9,
     "metadata": {},
     "output_type": "execute_result"
    }
   ],
   "source": [
    "df['model'].value_counts(dropna=False)"
   ]
  },
  {
   "cell_type": "code",
   "execution_count": 10,
   "metadata": {},
   "outputs": [
    {
     "data": {
      "text/plain": [
       "Insurance Validity\n",
       "5    4055\n",
       "2    3150\n",
       "4     630\n",
       "6     303\n",
       "3     223\n",
       "7       4\n",
       "0       3\n",
       "1       1\n",
       "Name: count, dtype: int64"
      ]
     },
     "execution_count": 10,
     "metadata": {},
     "output_type": "execute_result"
    }
   ],
   "source": [
    "from sklearn.preprocessing import LabelEncoder\n",
    "le = LabelEncoder()\n",
    "df['model'] = le.fit_transform(df['model'])\n",
    "df['Insurance Validity'] = le.fit_transform(df['Insurance Validity'])\n",
    "df['Insurance Validity'].value_counts()"
   ]
  },
  {
   "cell_type": "code",
   "execution_count": 11,
   "metadata": {},
   "outputs": [
    {
     "ename": "PatsyError",
     "evalue": "Error evaluating factor: NameError: name 'Insurance_validity' is not defined\n    price_in_lakhs ~ C(Insurance_validity)\n                     ^^^^^^^^^^^^^^^^^^^^^",
     "output_type": "error",
     "traceback": [
      "\u001b[1;31m---------------------------------------------------------------------------\u001b[0m",
      "\u001b[1;31mNameError\u001b[0m                                 Traceback (most recent call last)",
      "File \u001b[1;32ms:\\Car\\.venv\\Lib\\site-packages\\patsy\\compat.py:36\u001b[0m, in \u001b[0;36mcall_and_wrap_exc\u001b[1;34m(msg, origin, f, *args, **kwargs)\u001b[0m\n\u001b[0;32m     35\u001b[0m \u001b[38;5;28;01mtry\u001b[39;00m:\n\u001b[1;32m---> 36\u001b[0m     \u001b[38;5;28;01mreturn\u001b[39;00m \u001b[43mf\u001b[49m\u001b[43m(\u001b[49m\u001b[38;5;241;43m*\u001b[39;49m\u001b[43margs\u001b[49m\u001b[43m,\u001b[49m\u001b[43m \u001b[49m\u001b[38;5;241;43m*\u001b[39;49m\u001b[38;5;241;43m*\u001b[39;49m\u001b[43mkwargs\u001b[49m\u001b[43m)\u001b[49m\n\u001b[0;32m     37\u001b[0m \u001b[38;5;28;01mexcept\u001b[39;00m \u001b[38;5;167;01mException\u001b[39;00m \u001b[38;5;28;01mas\u001b[39;00m e:\n",
      "File \u001b[1;32ms:\\Car\\.venv\\Lib\\site-packages\\patsy\\eval.py:169\u001b[0m, in \u001b[0;36mEvalEnvironment.eval\u001b[1;34m(self, expr, source_name, inner_namespace)\u001b[0m\n\u001b[0;32m    168\u001b[0m code \u001b[38;5;241m=\u001b[39m \u001b[38;5;28mcompile\u001b[39m(expr, source_name, \u001b[38;5;124m\"\u001b[39m\u001b[38;5;124meval\u001b[39m\u001b[38;5;124m\"\u001b[39m, \u001b[38;5;28mself\u001b[39m\u001b[38;5;241m.\u001b[39mflags, \u001b[38;5;28;01mFalse\u001b[39;00m)\n\u001b[1;32m--> 169\u001b[0m \u001b[38;5;28;01mreturn\u001b[39;00m \u001b[38;5;28;43meval\u001b[39;49m\u001b[43m(\u001b[49m\u001b[43mcode\u001b[49m\u001b[43m,\u001b[49m\u001b[43m \u001b[49m\u001b[43m{\u001b[49m\u001b[43m}\u001b[49m\u001b[43m,\u001b[49m\u001b[43m \u001b[49m\u001b[43mVarLookupDict\u001b[49m\u001b[43m(\u001b[49m\u001b[43m[\u001b[49m\u001b[43minner_namespace\u001b[49m\u001b[43m]\u001b[49m\n\u001b[0;32m    170\u001b[0m \u001b[43m                                    \u001b[49m\u001b[38;5;241;43m+\u001b[39;49m\u001b[43m \u001b[49m\u001b[38;5;28;43mself\u001b[39;49m\u001b[38;5;241;43m.\u001b[39;49m\u001b[43m_namespaces\u001b[49m\u001b[43m)\u001b[49m\u001b[43m)\u001b[49m\n",
      "File \u001b[1;32m<string>:1\u001b[0m\n",
      "\u001b[1;31mNameError\u001b[0m: name 'Insurance_validity' is not defined",
      "\nThe above exception was the direct cause of the following exception:\n",
      "\u001b[1;31mPatsyError\u001b[0m                                Traceback (most recent call last)",
      "Cell \u001b[1;32mIn[11], line 4\u001b[0m\n\u001b[0;32m      2\u001b[0m \u001b[38;5;28;01mimport\u001b[39;00m \u001b[38;5;21;01mstatsmodels\u001b[39;00m\u001b[38;5;21;01m.\u001b[39;00m\u001b[38;5;21;01mapi\u001b[39;00m \u001b[38;5;28;01mas\u001b[39;00m \u001b[38;5;21;01msm\u001b[39;00m\n\u001b[0;32m      3\u001b[0m \u001b[38;5;28;01mfrom\u001b[39;00m \u001b[38;5;21;01mstatsmodels\u001b[39;00m\u001b[38;5;21;01m.\u001b[39;00m\u001b[38;5;21;01mformula\u001b[39;00m\u001b[38;5;21;01m.\u001b[39;00m\u001b[38;5;21;01mapi\u001b[39;00m \u001b[38;5;28;01mimport\u001b[39;00m ols\n\u001b[1;32m----> 4\u001b[0m model \u001b[38;5;241m=\u001b[39m \u001b[43mols\u001b[49m\u001b[43m(\u001b[49m\u001b[38;5;124;43m'\u001b[39;49m\u001b[38;5;124;43mprice_in_lakhs ~ C(Insurance_validity)\u001b[39;49m\u001b[38;5;124;43m'\u001b[39;49m\u001b[43m,\u001b[49m\u001b[43m \u001b[49m\u001b[43mdata\u001b[49m\u001b[38;5;241;43m=\u001b[39;49m\u001b[43mdf\u001b[49m\u001b[43m)\u001b[49m\u001b[38;5;241m.\u001b[39mfit()\n\u001b[0;32m      5\u001b[0m anova_table \u001b[38;5;241m=\u001b[39m sm\u001b[38;5;241m.\u001b[39mstats\u001b[38;5;241m.\u001b[39manova_lm(model, typ\u001b[38;5;241m=\u001b[39m\u001b[38;5;241m2\u001b[39m)\n\u001b[0;32m      6\u001b[0m \u001b[38;5;28mprint\u001b[39m(anova_table)\n",
      "File \u001b[1;32ms:\\Car\\.venv\\Lib\\site-packages\\statsmodels\\base\\model.py:203\u001b[0m, in \u001b[0;36mModel.from_formula\u001b[1;34m(cls, formula, data, subset, drop_cols, *args, **kwargs)\u001b[0m\n\u001b[0;32m    200\u001b[0m \u001b[38;5;28;01mif\u001b[39;00m missing \u001b[38;5;241m==\u001b[39m \u001b[38;5;124m'\u001b[39m\u001b[38;5;124mnone\u001b[39m\u001b[38;5;124m'\u001b[39m:  \u001b[38;5;66;03m# with patsy it's drop or raise. let's raise.\u001b[39;00m\n\u001b[0;32m    201\u001b[0m     missing \u001b[38;5;241m=\u001b[39m \u001b[38;5;124m'\u001b[39m\u001b[38;5;124mraise\u001b[39m\u001b[38;5;124m'\u001b[39m\n\u001b[1;32m--> 203\u001b[0m tmp \u001b[38;5;241m=\u001b[39m \u001b[43mhandle_formula_data\u001b[49m\u001b[43m(\u001b[49m\u001b[43mdata\u001b[49m\u001b[43m,\u001b[49m\u001b[43m \u001b[49m\u001b[38;5;28;43;01mNone\u001b[39;49;00m\u001b[43m,\u001b[49m\u001b[43m \u001b[49m\u001b[43mformula\u001b[49m\u001b[43m,\u001b[49m\u001b[43m \u001b[49m\u001b[43mdepth\u001b[49m\u001b[38;5;241;43m=\u001b[39;49m\u001b[43meval_env\u001b[49m\u001b[43m,\u001b[49m\n\u001b[0;32m    204\u001b[0m \u001b[43m                          \u001b[49m\u001b[43mmissing\u001b[49m\u001b[38;5;241;43m=\u001b[39;49m\u001b[43mmissing\u001b[49m\u001b[43m)\u001b[49m\n\u001b[0;32m    205\u001b[0m ((endog, exog), missing_idx, design_info) \u001b[38;5;241m=\u001b[39m tmp\n\u001b[0;32m    206\u001b[0m max_endog \u001b[38;5;241m=\u001b[39m \u001b[38;5;28mcls\u001b[39m\u001b[38;5;241m.\u001b[39m_formula_max_endog\n",
      "File \u001b[1;32ms:\\Car\\.venv\\Lib\\site-packages\\statsmodels\\formula\\formulatools.py:63\u001b[0m, in \u001b[0;36mhandle_formula_data\u001b[1;34m(Y, X, formula, depth, missing)\u001b[0m\n\u001b[0;32m     61\u001b[0m \u001b[38;5;28;01melse\u001b[39;00m:\n\u001b[0;32m     62\u001b[0m     \u001b[38;5;28;01mif\u001b[39;00m data_util\u001b[38;5;241m.\u001b[39m_is_using_pandas(Y, \u001b[38;5;28;01mNone\u001b[39;00m):\n\u001b[1;32m---> 63\u001b[0m         result \u001b[38;5;241m=\u001b[39m \u001b[43mdmatrices\u001b[49m\u001b[43m(\u001b[49m\u001b[43mformula\u001b[49m\u001b[43m,\u001b[49m\u001b[43m \u001b[49m\u001b[43mY\u001b[49m\u001b[43m,\u001b[49m\u001b[43m \u001b[49m\u001b[43mdepth\u001b[49m\u001b[43m,\u001b[49m\u001b[43m \u001b[49m\u001b[43mreturn_type\u001b[49m\u001b[38;5;241;43m=\u001b[39;49m\u001b[38;5;124;43m'\u001b[39;49m\u001b[38;5;124;43mdataframe\u001b[39;49m\u001b[38;5;124;43m'\u001b[39;49m\u001b[43m,\u001b[49m\n\u001b[0;32m     64\u001b[0m \u001b[43m                           \u001b[49m\u001b[43mNA_action\u001b[49m\u001b[38;5;241;43m=\u001b[39;49m\u001b[43mna_action\u001b[49m\u001b[43m)\u001b[49m\n\u001b[0;32m     65\u001b[0m     \u001b[38;5;28;01melse\u001b[39;00m:\n\u001b[0;32m     66\u001b[0m         result \u001b[38;5;241m=\u001b[39m dmatrices(formula, Y, depth, return_type\u001b[38;5;241m=\u001b[39m\u001b[38;5;124m'\u001b[39m\u001b[38;5;124mdataframe\u001b[39m\u001b[38;5;124m'\u001b[39m,\n\u001b[0;32m     67\u001b[0m                            NA_action\u001b[38;5;241m=\u001b[39mna_action)\n",
      "File \u001b[1;32ms:\\Car\\.venv\\Lib\\site-packages\\patsy\\highlevel.py:309\u001b[0m, in \u001b[0;36mdmatrices\u001b[1;34m(formula_like, data, eval_env, NA_action, return_type)\u001b[0m\n\u001b[0;32m    299\u001b[0m \u001b[38;5;250m\u001b[39m\u001b[38;5;124;03m\"\"\"Construct two design matrices given a formula_like and data.\u001b[39;00m\n\u001b[0;32m    300\u001b[0m \n\u001b[0;32m    301\u001b[0m \u001b[38;5;124;03mThis function is identical to :func:`dmatrix`, except that it requires\u001b[39;00m\n\u001b[1;32m   (...)\u001b[0m\n\u001b[0;32m    306\u001b[0m \u001b[38;5;124;03mSee :func:`dmatrix` for details.\u001b[39;00m\n\u001b[0;32m    307\u001b[0m \u001b[38;5;124;03m\"\"\"\u001b[39;00m\n\u001b[0;32m    308\u001b[0m eval_env \u001b[38;5;241m=\u001b[39m EvalEnvironment\u001b[38;5;241m.\u001b[39mcapture(eval_env, reference\u001b[38;5;241m=\u001b[39m\u001b[38;5;241m1\u001b[39m)\n\u001b[1;32m--> 309\u001b[0m (lhs, rhs) \u001b[38;5;241m=\u001b[39m \u001b[43m_do_highlevel_design\u001b[49m\u001b[43m(\u001b[49m\u001b[43mformula_like\u001b[49m\u001b[43m,\u001b[49m\u001b[43m \u001b[49m\u001b[43mdata\u001b[49m\u001b[43m,\u001b[49m\u001b[43m \u001b[49m\u001b[43meval_env\u001b[49m\u001b[43m,\u001b[49m\n\u001b[0;32m    310\u001b[0m \u001b[43m                                  \u001b[49m\u001b[43mNA_action\u001b[49m\u001b[43m,\u001b[49m\u001b[43m \u001b[49m\u001b[43mreturn_type\u001b[49m\u001b[43m)\u001b[49m\n\u001b[0;32m    311\u001b[0m \u001b[38;5;28;01mif\u001b[39;00m lhs\u001b[38;5;241m.\u001b[39mshape[\u001b[38;5;241m1\u001b[39m] \u001b[38;5;241m==\u001b[39m \u001b[38;5;241m0\u001b[39m:\n\u001b[0;32m    312\u001b[0m     \u001b[38;5;28;01mraise\u001b[39;00m PatsyError(\u001b[38;5;124m\"\u001b[39m\u001b[38;5;124mmodel is missing required outcome variables\u001b[39m\u001b[38;5;124m\"\u001b[39m)\n",
      "File \u001b[1;32ms:\\Car\\.venv\\Lib\\site-packages\\patsy\\highlevel.py:164\u001b[0m, in \u001b[0;36m_do_highlevel_design\u001b[1;34m(formula_like, data, eval_env, NA_action, return_type)\u001b[0m\n\u001b[0;32m    162\u001b[0m \u001b[38;5;28;01mdef\u001b[39;00m \u001b[38;5;21mdata_iter_maker\u001b[39m():\n\u001b[0;32m    163\u001b[0m     \u001b[38;5;28;01mreturn\u001b[39;00m \u001b[38;5;28miter\u001b[39m([data])\n\u001b[1;32m--> 164\u001b[0m design_infos \u001b[38;5;241m=\u001b[39m \u001b[43m_try_incr_builders\u001b[49m\u001b[43m(\u001b[49m\u001b[43mformula_like\u001b[49m\u001b[43m,\u001b[49m\u001b[43m \u001b[49m\u001b[43mdata_iter_maker\u001b[49m\u001b[43m,\u001b[49m\u001b[43m \u001b[49m\u001b[43meval_env\u001b[49m\u001b[43m,\u001b[49m\n\u001b[0;32m    165\u001b[0m \u001b[43m                                  \u001b[49m\u001b[43mNA_action\u001b[49m\u001b[43m)\u001b[49m\n\u001b[0;32m    166\u001b[0m \u001b[38;5;28;01mif\u001b[39;00m design_infos \u001b[38;5;129;01mis\u001b[39;00m \u001b[38;5;129;01mnot\u001b[39;00m \u001b[38;5;28;01mNone\u001b[39;00m:\n\u001b[0;32m    167\u001b[0m     \u001b[38;5;28;01mreturn\u001b[39;00m build_design_matrices(design_infos, data,\n\u001b[0;32m    168\u001b[0m                                  NA_action\u001b[38;5;241m=\u001b[39mNA_action,\n\u001b[0;32m    169\u001b[0m                                  return_type\u001b[38;5;241m=\u001b[39mreturn_type)\n",
      "File \u001b[1;32ms:\\Car\\.venv\\Lib\\site-packages\\patsy\\highlevel.py:66\u001b[0m, in \u001b[0;36m_try_incr_builders\u001b[1;34m(formula_like, data_iter_maker, eval_env, NA_action)\u001b[0m\n\u001b[0;32m     64\u001b[0m \u001b[38;5;28;01mif\u001b[39;00m \u001b[38;5;28misinstance\u001b[39m(formula_like, ModelDesc):\n\u001b[0;32m     65\u001b[0m     \u001b[38;5;28;01massert\u001b[39;00m \u001b[38;5;28misinstance\u001b[39m(eval_env, EvalEnvironment)\n\u001b[1;32m---> 66\u001b[0m     \u001b[38;5;28;01mreturn\u001b[39;00m \u001b[43mdesign_matrix_builders\u001b[49m\u001b[43m(\u001b[49m\u001b[43m[\u001b[49m\u001b[43mformula_like\u001b[49m\u001b[38;5;241;43m.\u001b[39;49m\u001b[43mlhs_termlist\u001b[49m\u001b[43m,\u001b[49m\n\u001b[0;32m     67\u001b[0m \u001b[43m                                   \u001b[49m\u001b[43mformula_like\u001b[49m\u001b[38;5;241;43m.\u001b[39;49m\u001b[43mrhs_termlist\u001b[49m\u001b[43m]\u001b[49m\u001b[43m,\u001b[49m\n\u001b[0;32m     68\u001b[0m \u001b[43m                                  \u001b[49m\u001b[43mdata_iter_maker\u001b[49m\u001b[43m,\u001b[49m\n\u001b[0;32m     69\u001b[0m \u001b[43m                                  \u001b[49m\u001b[43meval_env\u001b[49m\u001b[43m,\u001b[49m\n\u001b[0;32m     70\u001b[0m \u001b[43m                                  \u001b[49m\u001b[43mNA_action\u001b[49m\u001b[43m)\u001b[49m\n\u001b[0;32m     71\u001b[0m \u001b[38;5;28;01melse\u001b[39;00m:\n\u001b[0;32m     72\u001b[0m     \u001b[38;5;28;01mreturn\u001b[39;00m \u001b[38;5;28;01mNone\u001b[39;00m\n",
      "File \u001b[1;32ms:\\Car\\.venv\\Lib\\site-packages\\patsy\\build.py:693\u001b[0m, in \u001b[0;36mdesign_matrix_builders\u001b[1;34m(termlists, data_iter_maker, eval_env, NA_action)\u001b[0m\n\u001b[0;32m    689\u001b[0m factor_states \u001b[38;5;241m=\u001b[39m _factors_memorize(all_factors, data_iter_maker, eval_env)\n\u001b[0;32m    690\u001b[0m \u001b[38;5;66;03m# Now all the factors have working eval methods, so we can evaluate them\u001b[39;00m\n\u001b[0;32m    691\u001b[0m \u001b[38;5;66;03m# on some data to find out what type of data they return.\u001b[39;00m\n\u001b[0;32m    692\u001b[0m (num_column_counts,\n\u001b[1;32m--> 693\u001b[0m  cat_levels_contrasts) \u001b[38;5;241m=\u001b[39m \u001b[43m_examine_factor_types\u001b[49m\u001b[43m(\u001b[49m\u001b[43mall_factors\u001b[49m\u001b[43m,\u001b[49m\n\u001b[0;32m    694\u001b[0m \u001b[43m                                               \u001b[49m\u001b[43mfactor_states\u001b[49m\u001b[43m,\u001b[49m\n\u001b[0;32m    695\u001b[0m \u001b[43m                                               \u001b[49m\u001b[43mdata_iter_maker\u001b[49m\u001b[43m,\u001b[49m\n\u001b[0;32m    696\u001b[0m \u001b[43m                                               \u001b[49m\u001b[43mNA_action\u001b[49m\u001b[43m)\u001b[49m\n\u001b[0;32m    697\u001b[0m \u001b[38;5;66;03m# Now we need the factor infos, which encapsulate the knowledge of\u001b[39;00m\n\u001b[0;32m    698\u001b[0m \u001b[38;5;66;03m# how to turn any given factor into a chunk of data:\u001b[39;00m\n\u001b[0;32m    699\u001b[0m factor_infos \u001b[38;5;241m=\u001b[39m {}\n",
      "File \u001b[1;32ms:\\Car\\.venv\\Lib\\site-packages\\patsy\\build.py:443\u001b[0m, in \u001b[0;36m_examine_factor_types\u001b[1;34m(factors, factor_states, data_iter_maker, NA_action)\u001b[0m\n\u001b[0;32m    441\u001b[0m \u001b[38;5;28;01mfor\u001b[39;00m data \u001b[38;5;129;01min\u001b[39;00m data_iter_maker():\n\u001b[0;32m    442\u001b[0m     \u001b[38;5;28;01mfor\u001b[39;00m factor \u001b[38;5;129;01min\u001b[39;00m \u001b[38;5;28mlist\u001b[39m(examine_needed):\n\u001b[1;32m--> 443\u001b[0m         value \u001b[38;5;241m=\u001b[39m \u001b[43mfactor\u001b[49m\u001b[38;5;241;43m.\u001b[39;49m\u001b[43meval\u001b[49m\u001b[43m(\u001b[49m\u001b[43mfactor_states\u001b[49m\u001b[43m[\u001b[49m\u001b[43mfactor\u001b[49m\u001b[43m]\u001b[49m\u001b[43m,\u001b[49m\u001b[43m \u001b[49m\u001b[43mdata\u001b[49m\u001b[43m)\u001b[49m\n\u001b[0;32m    444\u001b[0m         \u001b[38;5;28;01mif\u001b[39;00m factor \u001b[38;5;129;01min\u001b[39;00m cat_sniffers \u001b[38;5;129;01mor\u001b[39;00m guess_categorical(value):\n\u001b[0;32m    445\u001b[0m             \u001b[38;5;28;01mif\u001b[39;00m factor \u001b[38;5;129;01mnot\u001b[39;00m \u001b[38;5;129;01min\u001b[39;00m cat_sniffers:\n",
      "File \u001b[1;32ms:\\Car\\.venv\\Lib\\site-packages\\patsy\\eval.py:568\u001b[0m, in \u001b[0;36mEvalFactor.eval\u001b[1;34m(self, memorize_state, data)\u001b[0m\n\u001b[0;32m    567\u001b[0m \u001b[38;5;28;01mdef\u001b[39;00m \u001b[38;5;21meval\u001b[39m(\u001b[38;5;28mself\u001b[39m, memorize_state, data):\n\u001b[1;32m--> 568\u001b[0m     \u001b[38;5;28;01mreturn\u001b[39;00m \u001b[38;5;28;43mself\u001b[39;49m\u001b[38;5;241;43m.\u001b[39;49m\u001b[43m_eval\u001b[49m\u001b[43m(\u001b[49m\u001b[43mmemorize_state\u001b[49m\u001b[43m[\u001b[49m\u001b[38;5;124;43m\"\u001b[39;49m\u001b[38;5;124;43meval_code\u001b[39;49m\u001b[38;5;124;43m\"\u001b[39;49m\u001b[43m]\u001b[49m\u001b[43m,\u001b[49m\n\u001b[0;32m    569\u001b[0m \u001b[43m                      \u001b[49m\u001b[43mmemorize_state\u001b[49m\u001b[43m,\u001b[49m\n\u001b[0;32m    570\u001b[0m \u001b[43m                      \u001b[49m\u001b[43mdata\u001b[49m\u001b[43m)\u001b[49m\n",
      "File \u001b[1;32ms:\\Car\\.venv\\Lib\\site-packages\\patsy\\eval.py:551\u001b[0m, in \u001b[0;36mEvalFactor._eval\u001b[1;34m(self, code, memorize_state, data)\u001b[0m\n\u001b[0;32m    549\u001b[0m \u001b[38;5;28;01mdef\u001b[39;00m \u001b[38;5;21m_eval\u001b[39m(\u001b[38;5;28mself\u001b[39m, code, memorize_state, data):\n\u001b[0;32m    550\u001b[0m     inner_namespace \u001b[38;5;241m=\u001b[39m VarLookupDict([data, memorize_state[\u001b[38;5;124m\"\u001b[39m\u001b[38;5;124mtransforms\u001b[39m\u001b[38;5;124m\"\u001b[39m]])\n\u001b[1;32m--> 551\u001b[0m     \u001b[38;5;28;01mreturn\u001b[39;00m \u001b[43mcall_and_wrap_exc\u001b[49m\u001b[43m(\u001b[49m\u001b[38;5;124;43m\"\u001b[39;49m\u001b[38;5;124;43mError evaluating factor\u001b[39;49m\u001b[38;5;124;43m\"\u001b[39;49m\u001b[43m,\u001b[49m\n\u001b[0;32m    552\u001b[0m \u001b[43m                             \u001b[49m\u001b[38;5;28;43mself\u001b[39;49m\u001b[43m,\u001b[49m\n\u001b[0;32m    553\u001b[0m \u001b[43m                             \u001b[49m\u001b[43mmemorize_state\u001b[49m\u001b[43m[\u001b[49m\u001b[38;5;124;43m\"\u001b[39;49m\u001b[38;5;124;43meval_env\u001b[39;49m\u001b[38;5;124;43m\"\u001b[39;49m\u001b[43m]\u001b[49m\u001b[38;5;241;43m.\u001b[39;49m\u001b[43meval\u001b[49m\u001b[43m,\u001b[49m\n\u001b[0;32m    554\u001b[0m \u001b[43m                             \u001b[49m\u001b[43mcode\u001b[49m\u001b[43m,\u001b[49m\n\u001b[0;32m    555\u001b[0m \u001b[43m                             \u001b[49m\u001b[43minner_namespace\u001b[49m\u001b[38;5;241;43m=\u001b[39;49m\u001b[43minner_namespace\u001b[49m\u001b[43m)\u001b[49m\n",
      "File \u001b[1;32ms:\\Car\\.venv\\Lib\\site-packages\\patsy\\compat.py:43\u001b[0m, in \u001b[0;36mcall_and_wrap_exc\u001b[1;34m(msg, origin, f, *args, **kwargs)\u001b[0m\n\u001b[0;32m     39\u001b[0m     new_exc \u001b[38;5;241m=\u001b[39m PatsyError(\u001b[38;5;124m\"\u001b[39m\u001b[38;5;132;01m%s\u001b[39;00m\u001b[38;5;124m: \u001b[39m\u001b[38;5;132;01m%s\u001b[39;00m\u001b[38;5;124m: \u001b[39m\u001b[38;5;132;01m%s\u001b[39;00m\u001b[38;5;124m\"\u001b[39m\n\u001b[0;32m     40\u001b[0m                          \u001b[38;5;241m%\u001b[39m (msg, e\u001b[38;5;241m.\u001b[39m\u001b[38;5;18m__class__\u001b[39m\u001b[38;5;241m.\u001b[39m\u001b[38;5;18m__name__\u001b[39m, e),\n\u001b[0;32m     41\u001b[0m                          origin)\n\u001b[0;32m     42\u001b[0m     \u001b[38;5;66;03m# Use 'exec' to hide this syntax from the Python 2 parser:\u001b[39;00m\n\u001b[1;32m---> 43\u001b[0m     \u001b[43mexec\u001b[49m\u001b[43m(\u001b[49m\u001b[38;5;124;43m\"\u001b[39;49m\u001b[38;5;124;43mraise new_exc from e\u001b[39;49m\u001b[38;5;124;43m\"\u001b[39;49m\u001b[43m)\u001b[49m\n\u001b[0;32m     44\u001b[0m \u001b[38;5;28;01melse\u001b[39;00m:\n\u001b[0;32m     45\u001b[0m     \u001b[38;5;66;03m# In python 2, we just let the original exception escape -- better\u001b[39;00m\n\u001b[0;32m     46\u001b[0m     \u001b[38;5;66;03m# than destroying the traceback. But if it's a PatsyError, we can\u001b[39;00m\n\u001b[0;32m     47\u001b[0m     \u001b[38;5;66;03m# at least set the origin properly.\u001b[39;00m\n\u001b[0;32m     48\u001b[0m     \u001b[38;5;28;01mif\u001b[39;00m \u001b[38;5;28misinstance\u001b[39m(e, PatsyError):\n",
      "File \u001b[1;32m<string>:1\u001b[0m\n",
      "\u001b[1;31mPatsyError\u001b[0m: Error evaluating factor: NameError: name 'Insurance_validity' is not defined\n    price_in_lakhs ~ C(Insurance_validity)\n                     ^^^^^^^^^^^^^^^^^^^^^"
     ]
    }
   ],
   "source": [
    "#ANOVA\n",
    "import statsmodels.api as sm\n",
    "from statsmodels.formula.api import ols\n",
    "model = ols('price_in_lakhs ~ C(Insurance_validity)', data=df).fit()\n",
    "anova_table = sm.stats.anova_lm(model, typ=2)\n",
    "print(anova_table)\n"
   ]
  },
  {
   "cell_type": "code",
   "execution_count": null,
   "metadata": {},
   "outputs": [],
   "source": []
  },
  {
   "cell_type": "code",
   "execution_count": null,
   "metadata": {},
   "outputs": [],
   "source": [
    "from scipy.stats import kruskal\n",
    "\n",
    "kruskal_test = kruskal(*[group[\"price_in_lakhs\"].values for name, group in df.groupby(\"model\")])\n",
    "print(kruskal_test)\n"
   ]
  },
  {
   "cell_type": "code",
   "execution_count": null,
   "metadata": {},
   "outputs": [
    {
     "name": "stdout",
     "output_type": "stream",
     "text": [
      "Index(['Unnamed: 0', 'Registration Year', 'Insurance Validity', 'Fuel Type',\n",
      "       'Seats_x', 'Kms Driven', 'RTO', 'Ownership', 'Engine Displacement',\n",
      "       'Transmission', 'Year of Manufacture', 'it', 'ft', 'bt', 'km',\n",
      "       'transmission', 'ownerNo', 'owner', 'oem', 'model', 'modelYear',\n",
      "       'centralVariantId', 'variantName', 'price', 'priceActual',\n",
      "       'priceSaving', 'priceFixedText', 'trendingText', 'Features',\n",
      "       'Comfort & Convenience', 'Interior', 'Exterior', 'Safety',\n",
      "       'Entertainment & Communication', 'Engine', 'Max Power', 'Torque',\n",
      "       'Wheel Size', 'Seats_y', 'Color', 'Engine Type', 'Displacement',\n",
      "       'Max Torque', 'No of Cylinder', 'Values per Cylinder',\n",
      "       'Fuel Suppy System', 'Turbo Charger', 'Length', 'Width', 'Height',\n",
      "       'Wheel Base', 'Kerb Weight', 'Gear Box', 'Drive Type',\n",
      "       'Seating Capacity', 'Steering Type', 'Front Brake Type',\n",
      "       'Rear Brake Type', 'Tyre Type', 'Alloy Wheel Size', 'No Door Numbers',\n",
      "       'Cargo Volumn', 'Mileage', 'Value Configuration', 'Compression Ratio',\n",
      "       'Super Charger', 'Front Tread', 'Rear Tread', 'Gross Weight',\n",
      "       'Turning Radius', 'Top Speed', 'Acceleration', 'BoreX Stroke',\n",
      "       'Ground Clearance Unladen', 'City', 'price_in_lakhs'],\n",
      "      dtype='object')\n"
     ]
    }
   ],
   "source": [
    "print(df.columns)"
   ]
  },
  {
   "cell_type": "code",
   "execution_count": null,
   "metadata": {},
   "outputs": [],
   "source": [
    "df.loc[:,'km'] = df['km'].str.replace(',','')"
   ]
  },
  {
   "cell_type": "code",
   "execution_count": null,
   "metadata": {},
   "outputs": [],
   "source": [
    "\n",
    "df['km'] = df['km'].astype(float)\n",
    "df['ownerNo'] = df['ownerNo'].astype(float)\n",
    "df['modelYear'] = df['modelYear'].astype(float)\n",
    "df['price_in_lakhs'] = df['price_in_lakhs'].astype(float)\n",
    "df['Year of Manufacture'] = df['Year of Manufacture'].astype(float)\n",
    "\n",
    "df['Values per Cylinder'] = df['Values per Cylinder'].astype(float)\n",
    "df['No of Cylinder'] = df['No of Cylinder'].astype(float)\n",
    "\n",
    "\n"
   ]
  },
  {
   "cell_type": "code",
   "execution_count": null,
   "metadata": {},
   "outputs": [],
   "source": [
    "df['Registration Year'] = df['Registration Year'].astype(str)"
   ]
  },
  {
   "cell_type": "code",
   "execution_count": 17,
   "metadata": {},
   "outputs": [],
   "source": [
    "df1 = df.copy()"
   ]
  },
  {
   "cell_type": "code",
   "execution_count": 18,
   "metadata": {},
   "outputs": [
    {
     "data": {
      "text/plain": [
       "(8369, 76)"
      ]
     },
     "execution_count": 18,
     "metadata": {},
     "output_type": "execute_result"
    }
   ],
   "source": [
    "df1.shape"
   ]
  },
  {
   "cell_type": "code",
   "execution_count": 19,
   "metadata": {},
   "outputs": [
    {
     "data": {
      "text/plain": [
       "Registration Year New\n",
       "2018.0    778\n",
       "2017.0    743\n",
       "2019.0    622\n",
       "2016.0    614\n",
       "2021.0    502\n",
       "2020.0    473\n",
       "2014.0    419\n",
       "2015.0    398\n",
       "2022.0    346\n",
       "2013.0    229\n",
       "2012.0    184\n",
       "2011.0    127\n",
       "2010.0    108\n",
       "2023.0     79\n",
       "2009.0     32\n",
       "2008.0     26\n",
       "2007.0     14\n",
       "2006.0      7\n",
       "2005.0      6\n",
       "2004.0      5\n",
       "2002.0      3\n",
       "2003.0      2\n",
       "Name: count, dtype: int64"
      ]
     },
     "execution_count": 19,
     "metadata": {},
     "output_type": "execute_result"
    }
   ],
   "source": [
    "df1[['Registration Month','Registration Year New']] = df1['Registration Year'].str.split(' ',expand=True)\n",
    "df1['Registration Year New'] = df1['Registration Year New'].astype(float)\n",
    "df1['Registration Year New'].value_counts()"
   ]
  },
  {
   "cell_type": "code",
   "execution_count": 20,
   "metadata": {},
   "outputs": [
    {
     "data": {
      "text/plain": [
       "Wheel Size\n",
       "2450      618\n",
       "2600      458\n",
       "2425      417\n",
       "2520      388\n",
       "2380      367\n",
       "         ... \n",
       "2855        1\n",
       "2795        1\n",
       "2825        1\n",
       "2,480       1\n",
       "2622        1\n",
       "Name: count, Length: 240, dtype: int64"
      ]
     },
     "execution_count": 20,
     "metadata": {},
     "output_type": "execute_result"
    }
   ],
   "source": [
    "df1['Wheel Size'] = df1['Wheel Size'].astype(str)\n",
    "df1['Wheel Size'] = df1['Wheel Base'].str.replace('R','',regex=True).replace('mm','',regex=True)\n",
    "\n",
    "df1['Wheel Size'].value_counts()"
   ]
  },
  {
   "cell_type": "code",
   "execution_count": 21,
   "metadata": {},
   "outputs": [
    {
     "data": {
      "text/plain": [
       "Length\n",
       "3995     1088\n",
       "4440      368\n",
       "3765      295\n",
       "3985      240\n",
       "3585      175\n",
       "         ... \n",
       "4010        1\n",
       "4767        1\n",
       "4310        1\n",
       "5015        1\n",
       "4470        1\n",
       "Name: count, Length: 392, dtype: int64"
      ]
     },
     "execution_count": 21,
     "metadata": {},
     "output_type": "execute_result"
    }
   ],
   "source": [
    "df1['Length'] = df1['Length'].astype(str)\n",
    "df1['Length'] = df1['Length'].str.replace('mm','',regex=True).replace(',','',regex=True)\n",
    "\n",
    "df1['Length'].value_counts()"
   ]
  },
  {
   "cell_type": "code",
   "execution_count": 22,
   "metadata": {},
   "outputs": [
    {
     "data": {
      "text/plain": [
       "Width\n",
       "1695     645\n",
       "1735     465\n",
       "1745     330\n",
       "1680     325\n",
       "1660     324\n",
       "        ... \n",
       "1897       1\n",
       "1698       1\n",
       "1726       1\n",
       "1923       1\n",
       "2042       1\n",
       "Name: count, Length: 271, dtype: int64"
      ]
     },
     "execution_count": 22,
     "metadata": {},
     "output_type": "execute_result"
    }
   ],
   "source": [
    "df1['Width'] = df1['Width'].astype(str)\n",
    "df1['Width'] = df1['Width'].str.replace('mm','',regex=True).replace(',','',regex=True)\n",
    "df1.Width.value_counts()"
   ]
  },
  {
   "cell_type": "code",
   "execution_count": 23,
   "metadata": {},
   "outputs": [
    {
     "data": {
      "text/plain": [
       "Height\n",
       "1520     438\n",
       "1475     425\n",
       "1530     400\n",
       "1505     393\n",
       "1510     323\n",
       "        ... \n",
       "1875       1\n",
       "1780       1\n",
       "1810       1\n",
       "1575       1\n",
       "1308       1\n",
       "Name: count, Length: 305, dtype: int64"
      ]
     },
     "execution_count": 23,
     "metadata": {},
     "output_type": "execute_result"
    }
   ],
   "source": [
    "df1['Height'] = df1['Height'].astype(str)\n",
    "df1['Height'] = df1['Height'].str.replace('mm','',regex=True).replace(',','',regex=True)\n",
    "\n",
    "df1['Height'].value_counts()"
   ]
  },
  {
   "cell_type": "code",
   "execution_count": 24,
   "metadata": {},
   "outputs": [
    {
     "data": {
      "text/plain": [
       "Wheel Base\n",
       "2450     618\n",
       "2600     458\n",
       "2425     417\n",
       "2520     388\n",
       "2380     367\n",
       "        ... \n",
       "2855       1\n",
       "2795       1\n",
       "2825       1\n",
       "2480       1\n",
       "2622       1\n",
       "Name: count, Length: 232, dtype: int64"
      ]
     },
     "execution_count": 24,
     "metadata": {},
     "output_type": "execute_result"
    }
   ],
   "source": [
    "df1['Wheel Base'] = df1['Wheel Base'].astype(str)\n",
    "df1['Wheel Base'] = df1['Wheel Base'].str.replace('mm','',regex=True).replace('R','',regex=True).replace('x','',regex=True).replace(',','',regex=True)\n",
    "df1['Wheel Base'].value_counts()"
   ]
  },
  {
   "cell_type": "code",
   "execution_count": 25,
   "metadata": {},
   "outputs": [
    {
     "data": {
      "text/plain": [
       "Gear Box\n",
       "5 Speed              4463\n",
       "6 Speed              1049\n",
       "5-Speed               541\n",
       "7 Speed               261\n",
       "6-Speed               237\n",
       "                     ... \n",
       "5 speed manual          1\n",
       "9 -speed                1\n",
       "8-speed tiptronic       1\n",
       "7-Speed S tronic        1\n",
       "eCVT                    1\n",
       "Name: count, Length: 118, dtype: int64"
      ]
     },
     "execution_count": 25,
     "metadata": {},
     "output_type": "execute_result"
    }
   ],
   "source": [
    "df1['Gear Box'].value_counts()"
   ]
  },
  {
   "cell_type": "code",
   "execution_count": 26,
   "metadata": {},
   "outputs": [
    {
     "data": {
      "text/plain": [
       "Gear\n",
       "5    5376\n",
       "6    1587\n",
       "7     421\n",
       "8     335\n",
       "      334\n",
       "4     167\n",
       "9     145\n",
       "1       4\n",
       "Name: count, dtype: int64"
      ]
     },
     "execution_count": 26,
     "metadata": {},
     "output_type": "execute_result"
    }
   ],
   "source": [
    "import re\n",
    "df1['Gear Box'] = df1['Gear Box'].astype(str)\n",
    "def clean_gearbox(gear_box):\n",
    "  \"\"\"\n",
    "  Extracts the gear number from the 'Gear Box' string.\n",
    "\n",
    "  Args:\n",
    "      gear_box (str): The string containing the gear information.\n",
    "\n",
    "  Returns:\n",
    "      str: The extracted gear number (or an empty string if not found).\n",
    "  \"\"\"\n",
    "  if pd.isna(gear_box):  # Check for missing values (NaN)\n",
    "    return \"\"\n",
    "\n",
    "  pattern = r\"^\\d\"  # Match one or more digits at the beginning of the string\n",
    "  match = re.search(pattern, gear_box)\n",
    "  if match:\n",
    "    return match.group()\n",
    "  else:\n",
    "    return \"\"\n",
    "df1['Gear'] = df1['Gear Box'].apply(clean_gearbox)\n",
    "df1['Gear'].value_counts()"
   ]
  },
  {
   "cell_type": "code",
   "execution_count": 27,
   "metadata": {},
   "outputs": [
    {
     "data": {
      "text/plain": [
       "np.int64(0)"
      ]
     },
     "execution_count": 27,
     "metadata": {},
     "output_type": "execute_result"
    }
   ],
   "source": [
    "df1.Gear.isna().sum()"
   ]
  },
  {
   "cell_type": "code",
   "execution_count": 28,
   "metadata": {},
   "outputs": [
    {
     "data": {
      "text/plain": [
       "Alloy Wheel Size\n",
       "NaN    2983\n",
       "16     1500\n",
       "15     1063\n",
       "17      826\n",
       "14      679\n",
       "18      381\n",
       "13      352\n",
       "R16     142\n",
       "19      109\n",
       "12       85\n",
       "R15      83\n",
       "R17      57\n",
       "20       43\n",
       "R18      41\n",
       "R14       9\n",
       "R19       8\n",
       "21        7\n",
       "R20       1\n",
       "Name: count, dtype: int64"
      ]
     },
     "execution_count": 28,
     "metadata": {},
     "output_type": "execute_result"
    }
   ],
   "source": [
    "df['Alloy Wheel Size'].value_counts(dropna=False)"
   ]
  },
  {
   "cell_type": "code",
   "execution_count": 29,
   "metadata": {},
   "outputs": [],
   "source": [
    "def clean_wheel_size(size):\n",
    "  \n",
    "  if pd.isna(size):  # Check for missing values (NaN)\n",
    "    return size\n",
    "\n",
    "  pattern = r\"^R?(\\d+)\"  # Match optional 'R' followed by one or more digits\n",
    "  match = re.search(pattern, size)\n",
    "  if match:\n",
    "    return match.group(1)  # Extract the captured digit group\n",
    "  else:\n",
    "    return size "
   ]
  },
  {
   "cell_type": "code",
   "execution_count": 30,
   "metadata": {},
   "outputs": [
    {
     "data": {
      "text/plain": [
       "Alloy Wheel Size\n",
       "nan    2983\n",
       "16     1642\n",
       "15     1146\n",
       "17      883\n",
       "14      688\n",
       "18      422\n",
       "13      352\n",
       "19      117\n",
       "12       85\n",
       "20       44\n",
       "21        7\n",
       "Name: count, dtype: int64"
      ]
     },
     "execution_count": 30,
     "metadata": {},
     "output_type": "execute_result"
    }
   ],
   "source": [
    "df1['Alloy Wheel Size'] = df1['Alloy Wheel Size'].astype(str)\n",
    "df1['Alloy Wheel Size'] = df1['Alloy Wheel Size'].apply(clean_wheel_size)\n",
    "#df1['Alloy Wheel Size'] = df1['Alloy Wheel Size'].fillna(int(df1['Alloy Wheel Size'].mean()),inplace=True)\n",
    "df1['Alloy Wheel Size'].value_counts()"
   ]
  },
  {
   "cell_type": "code",
   "execution_count": 31,
   "metadata": {},
   "outputs": [
    {
     "data": {
      "text/plain": [
       "Alloy Wheel Size\n",
       "nan    2983\n",
       "16     1642\n",
       "15     1146\n",
       "17      883\n",
       "14      688\n",
       "18      422\n",
       "13      352\n",
       "19      117\n",
       "12       85\n",
       "20       44\n",
       "21        7\n",
       "Name: count, dtype: int64"
      ]
     },
     "execution_count": 31,
     "metadata": {},
     "output_type": "execute_result"
    }
   ],
   "source": [
    "\n",
    "df1['Alloy Wheel Size'].value_counts()"
   ]
  },
  {
   "cell_type": "code",
   "execution_count": 33,
   "metadata": {},
   "outputs": [
    {
     "data": {
      "text/plain": [
       "Mileage\n",
       "18.900000    307\n",
       "19.255853    287\n",
       "18.600000    225\n",
       "21.400000    198\n",
       "17.000000    191\n",
       "            ... \n",
       "15.150000      1\n",
       "19.800000      1\n",
       "14.950000      1\n",
       "11.810000      1\n",
       "12.980000      1\n",
       "Name: count, Length: 517, dtype: int64"
      ]
     },
     "execution_count": 33,
     "metadata": {},
     "output_type": "execute_result"
    }
   ],
   "source": [
    "from sklearn.impute import SimpleImputer\n",
    "import numpy as np\n",
    "imputer = SimpleImputer(missing_values=np.nan, strategy='mean')\n",
    "\n",
    "df1['Mileage'] = df1['Mileage'].astype(str)\n",
    "df1['Mileage'] = df1['Mileage'].str.replace('kmpl','',regex=True).str.replace('km/kg','',regex=True)\n",
    "\n",
    "df1['Mileage'] = imputer.fit_transform(df1['Mileage'].values.reshape(-1, 1))\n",
    "df1['Mileage'].value_counts()"
   ]
  },
  {
   "cell_type": "code",
   "execution_count": 34,
   "metadata": {},
   "outputs": [
    {
     "data": {
      "text/plain": [
       "Mileage\n",
       "18.900000    307\n",
       "19.255853    287\n",
       "18.600000    225\n",
       "21.400000    198\n",
       "17.000000    191\n",
       "            ... \n",
       "15.150000      1\n",
       "19.800000      1\n",
       "14.950000      1\n",
       "11.810000      1\n",
       "12.980000      1\n",
       "Name: count, Length: 517, dtype: int64"
      ]
     },
     "execution_count": 34,
     "metadata": {},
     "output_type": "execute_result"
    }
   ],
   "source": [
    "df1['Mileage'].value_counts(dropna=False)"
   ]
  },
  {
   "cell_type": "code",
   "execution_count": 35,
   "metadata": {},
   "outputs": [
    {
     "data": {
      "text/plain": [
       "Super Charger\n",
       "No     6390\n",
       "       1962\n",
       "Yes      17\n",
       "Name: count, dtype: int64"
      ]
     },
     "execution_count": 35,
     "metadata": {},
     "output_type": "execute_result"
    }
   ],
   "source": [
    "def clean_super_charger(charger):\n",
    "  if pd.isna(charger):  # Check for missing values (NaN)\n",
    "    return \"\"\n",
    "\n",
    "  if 'Yes'in charger or 'yes' in charger:\n",
    "    return 'Yes'\n",
    "  else:\n",
    "    return 'No'\n",
    "df1['Super Charger'] = df1['Super Charger'].apply(clean_super_charger)\n",
    "\n",
    "df1['Super Charger'].value_counts()"
   ]
  },
  {
   "cell_type": "code",
   "execution_count": 36,
   "metadata": {},
   "outputs": [
    {
     "data": {
      "text/plain": [
       "Super Charger\n",
       "No     6390\n",
       "       1962\n",
       "Yes      17\n",
       "Name: count, dtype: int64"
      ]
     },
     "execution_count": 36,
     "metadata": {},
     "output_type": "execute_result"
    }
   ],
   "source": [
    "#df1.iloc[:,'Super Charger'] = df1['Super Charger'].fillna('No')\n",
    "df1.loc[:, 'Super Charger'] = df1['Super Charger'].fillna('No')\n",
    "\n",
    "df1['Super Charger'].value_counts()"
   ]
  },
  {
   "cell_type": "code",
   "execution_count": 37,
   "metadata": {},
   "outputs": [],
   "source": [
    "def clean_turning_radius(turning_radius):\n",
    "    pattern = r\"^(\\d+\\.\\d+|\\d+)\"\n",
    "    match = re.search(pattern, turning_radius)\n",
    "    if match and match.group(0):\n",
    "        return match.group(0)\n",
    "    else:\n",
    "        return turning_radius\n"
   ]
  },
  {
   "cell_type": "code",
   "execution_count": 38,
   "metadata": {},
   "outputs": [
    {
     "data": {
      "text/plain": [
       "dtype('O')"
      ]
     },
     "execution_count": 38,
     "metadata": {},
     "output_type": "execute_result"
    }
   ],
   "source": [
    "df1['Turning Radius'].dtype"
   ]
  },
  {
   "cell_type": "code",
   "execution_count": 39,
   "metadata": {},
   "outputs": [
    {
     "data": {
      "text/plain": [
       "Turning Radius\n",
       "nan     1600\n",
       "5.3      939\n",
       "4.8      830\n",
       "4.9      688\n",
       "5.2      685\n",
       "        ... \n",
       "5.26       1\n",
       "4.58       1\n",
       "6250       1\n",
       "13         1\n",
       "4.95       1\n",
       "Name: count, Length: 71, dtype: int64"
      ]
     },
     "execution_count": 39,
     "metadata": {},
     "output_type": "execute_result"
    }
   ],
   "source": [
    "\n",
    "df1['Turning Radius'] = df1['Turning Radius'].astype(str).apply(clean_turning_radius)\n",
    "df1['Turning Radius'].value_counts()"
   ]
  },
  {
   "cell_type": "code",
   "execution_count": 40,
   "metadata": {},
   "outputs": [
    {
     "data": {
      "text/plain": [
       "dtype('O')"
      ]
     },
     "execution_count": 40,
     "metadata": {},
     "output_type": "execute_result"
    }
   ],
   "source": [
    "df1['Turning Radius'].dtype"
   ]
  },
  {
   "cell_type": "code",
   "execution_count": 41,
   "metadata": {},
   "outputs": [
    {
     "data": {
      "text/plain": [
       "Turning Radius\n",
       "6.026417       1600\n",
       "5.300000        939\n",
       "4.800000        830\n",
       "5.200000        722\n",
       "4.900000        688\n",
       "               ... \n",
       "5.260000          1\n",
       "4.580000          1\n",
       "6250.000000       1\n",
       "13.000000         1\n",
       "4.950000          1\n",
       "Name: count, Length: 67, dtype: int64"
      ]
     },
     "execution_count": 41,
     "metadata": {},
     "output_type": "execute_result"
    }
   ],
   "source": [
    "# df1['Turning Radius'] = df1['Turning Radius'].astype(str)\n",
    "# df1['Turning Radius'] = df1['Turning Radius'].str.replace('meters','',regex=True).replace('m','',regex=True).str.replace('mm','',regex=True).replace(\"eters\",'',regex=True).replace('M','',regex=True).replace('eter','',regex=True)\n",
    "df1['Turning Radius'] = df1['Turning Radius'].astype(float)\n",
    "df1['Turning Radius'] = imputer.fit_transform(df1['Turning Radius'].values.reshape(-1, 1))\n",
    "df1['Turning Radius'].value_counts()"
   ]
  },
  {
   "cell_type": "code",
   "execution_count": 42,
   "metadata": {},
   "outputs": [
    {
     "data": {
      "text/plain": [
       "City\n",
       "Delhi        1485\n",
       "Hyderabad    1483\n",
       "Bangalore    1481\n",
       "Chennai      1419\n",
       "Kolkata      1381\n",
       "Jaipur       1120\n",
       "Name: count, dtype: int64"
      ]
     },
     "execution_count": 42,
     "metadata": {},
     "output_type": "execute_result"
    }
   ],
   "source": [
    "df1['City'].value_counts(dropna=False)"
   ]
  },
  {
   "cell_type": "code",
   "execution_count": 43,
   "metadata": {},
   "outputs": [
    {
     "data": {
      "text/plain": [
       "City\n",
       "2    1485\n",
       "3    1483\n",
       "0    1481\n",
       "1    1419\n",
       "5    1381\n",
       "4    1120\n",
       "Name: count, dtype: int64"
      ]
     },
     "execution_count": 43,
     "metadata": {},
     "output_type": "execute_result"
    }
   ],
   "source": [
    "from sklearn.preprocessing import LabelEncoder\n",
    "le = LabelEncoder()\n",
    "df1['City'] = le.fit_transform(df1['City'])\n",
    "\n",
    "df1['City'].value_counts()"
   ]
  },
  {
   "cell_type": "code",
   "execution_count": 44,
   "metadata": {},
   "outputs": [
    {
     "name": "stdout",
     "output_type": "stream",
     "text": [
      "Index(['Unnamed: 0', 'Registration Year', 'Insurance Validity', 'Fuel Type',\n",
      "       'Seats_x', 'Kms Driven', 'RTO', 'Ownership', 'Engine Displacement',\n",
      "       'Transmission', 'Year of Manufacture', 'it', 'ft', 'bt', 'km',\n",
      "       'transmission', 'ownerNo', 'owner', 'oem', 'model', 'modelYear',\n",
      "       'centralVariantId', 'variantName', 'price', 'priceActual',\n",
      "       'priceSaving', 'priceFixedText', 'trendingText', 'Features',\n",
      "       'Comfort & Convenience', 'Interior', 'Exterior', 'Safety',\n",
      "       'Entertainment & Communication', 'Engine', 'Max Power', 'Torque',\n",
      "       'Wheel Size', 'Seats_y', 'Color', 'Engine Type', 'Displacement',\n",
      "       'Max Torque', 'No of Cylinder', 'Values per Cylinder',\n",
      "       'Fuel Suppy System', 'Turbo Charger', 'Length', 'Width', 'Height',\n",
      "       'Wheel Base', 'Kerb Weight', 'Gear Box', 'Drive Type',\n",
      "       'Seating Capacity', 'Steering Type', 'Front Brake Type',\n",
      "       'Rear Brake Type', 'Tyre Type', 'Alloy Wheel Size', 'No Door Numbers',\n",
      "       'Cargo Volumn', 'Mileage', 'Value Configuration', 'Compression Ratio',\n",
      "       'Super Charger', 'Front Tread', 'Rear Tread', 'Gross Weight',\n",
      "       'Turning Radius', 'Top Speed', 'Acceleration', 'BoreX Stroke',\n",
      "       'Ground Clearance Unladen', 'City', 'price_in_lakhs',\n",
      "       'Registration Month', 'Registration Year New', 'Gear'],\n",
      "      dtype='object')\n"
     ]
    }
   ],
   "source": [
    "print(df1.columns)"
   ]
  },
  {
   "cell_type": "code",
   "execution_count": 45,
   "metadata": {},
   "outputs": [],
   "source": [
    "def clean_displacement(displacement):\n",
    "    pattern = r'\\d{3,5}'\n",
    "    match = re.search(pattern, displacement)\n",
    "    if match and match.group(0):\n",
    "        return match.group(0)\n",
    "    else:\n",
    "        return displacement\n",
    "    "
   ]
  },
  {
   "cell_type": "code",
   "execution_count": 46,
   "metadata": {},
   "outputs": [
    {
     "data": {
      "text/plain": [
       "Engine Displacement\n",
       "1197    1607\n",
       "998      640\n",
       "1199     489\n",
       "1497     451\n",
       "1248     424\n",
       "        ... \n",
       "4806       1\n",
       "2994       1\n",
       "1993       1\n",
       "1490       1\n",
       "2489       1\n",
       "Name: count, Length: 151, dtype: int64"
      ]
     },
     "execution_count": 46,
     "metadata": {},
     "output_type": "execute_result"
    }
   ],
   "source": [
    "df1['Engine Displacement'] = df1['Engine Displacement'].astype(str).apply(clean_displacement)\n",
    "df1['Engine Displacement'].value_counts()"
   ]
  },
  {
   "cell_type": "code",
   "execution_count": 47,
   "metadata": {},
   "outputs": [
    {
     "data": {
      "text/plain": [
       "rpm\n",
       "6000    2495\n",
       "4000     670\n",
       "5500     567\n",
       "6200     301\n",
       "103      254\n",
       "        ... \n",
       "348        1\n",
       "265        1\n",
       "155        1\n",
       "154        1\n",
       "221        1\n",
       "Name: count, Length: 176, dtype: int64"
      ]
     },
     "execution_count": 47,
     "metadata": {},
     "output_type": "execute_result"
    }
   ],
   "source": [
    "def clean_max_power(max_power):\n",
    "    pattern = r'\\d{3,5}'\n",
    "    match = re.search(pattern, max_power)\n",
    "    if match and match.group(0):\n",
    "        return match.group(0)\n",
    "    else:\n",
    "        return max_power\n",
    "df1['rpm'] = df1['Max Power'].astype(str).apply(clean_max_power)\n",
    "df1['rpm'].value_counts()"
   ]
  },
  {
   "cell_type": "code",
   "execution_count": 48,
   "metadata": {},
   "outputs": [],
   "source": [
    "# Fill missing values with the mode\n",
    "df1['Fuel Suppy System'] = df1['Fuel Suppy System'].fillna(df1['Fuel Suppy System'].mode()[0])\n",
    "df1['Drive Type'] = df1['Drive Type'].fillna(df1['Drive Type'].mode()[0])\n",
    "df1['Steering Type'] = df1['Steering Type'].fillna(df1['Steering Type'].mode()[0])\n",
    "df1['Front Brake Type'] = df1['Front Brake Type'].fillna(df1['Front Brake Type'].mode()[0])\n",
    "df1['Rear Brake Type'] = df1['Rear Brake Type'].fillna(df1['Rear Brake Type'].mode()[0])\n",
    "df1['Tyre Type'] = df1['Tyre Type'].fillna(df1['Tyre Type'].mode()[0])\n",
    "df1['Top Speed'] = df1['Top Speed'].fillna(df1['Top Speed'].mode()[0])\n",
    "df1['Alloy Wheel Size'] = df1['Alloy Wheel Size'].fillna(df1['Alloy Wheel Size'].mode()[0])\n",
    "df1['Super Charger'] = df1['Super Charger'].fillna(df1['Super Charger'].mode()[0])\n",
    "df1['Turning Radius'] = df1['Turning Radius'].fillna(df1['Turning Radius'].mode()[0])\n",
    "df1['Alloy Wheel Size'] = df1['Alloy Wheel Size'].fillna(df1['Alloy Wheel Size'].mode()[0])\n",
    "df1['Registration Year New'] = df1['Registration Year New'].fillna(df1['Registration Year New'].mode()[0])"
   ]
  },
  {
   "cell_type": "code",
   "execution_count": 49,
   "metadata": {},
   "outputs": [],
   "source": [
    "def clean_top_speed(top_speed):\n",
    "    pattern = r'\\d{3,5}'\n",
    "    match = re.search(pattern, top_speed)\n",
    "    if match and match.group(0):\n",
    "        return match.group(0)\n",
    "    else:\n",
    "        return top_speed\n",
    "df1['Top Speed'] = df1['Top Speed'].astype(str).apply(clean_top_speed)"
   ]
  },
  {
   "cell_type": "code",
   "execution_count": 50,
   "metadata": {},
   "outputs": [],
   "source": [
    "columns_to_drop = ['Seats_x','ft','owner','Kms Driven','Ownership','it','priceActual','price','Value Configuration',\n",
    "                   'priceSaving','priceFixedText','trendingText', 'Unnamed: 0','Registration Year','RTO',\n",
    "                   'variantName','Engine','Max Power','Torque','Engine Type','Engine Displacement',\n",
    "                     'Kerb Weight','Gear Box','Transmission','Cargo Volumn','Compression Ratio',\n",
    "                     'Max Torque','Tyre Type','Registration Month',\n",
    "                     'Front Tread','Rear Tread','Gross Weight','Acceleration','BoreX Stroke','Ground Clearance Unladen']"
   ]
  },
  {
   "cell_type": "code",
   "execution_count": 51,
   "metadata": {},
   "outputs": [],
   "source": [
    "df1.drop(columns=columns_to_drop,axis=1,inplace=True)"
   ]
  },
  {
   "cell_type": "code",
   "execution_count": 64,
   "metadata": {},
   "outputs": [
    {
     "data": {
      "text/plain": [
       "km\n",
       "120000    315\n",
       "50000     263\n",
       "70000     262\n",
       "60000     259\n",
       "30000     253\n",
       "         ... \n",
       "41232       1\n",
       "48277       1\n",
       "34689       1\n",
       "32475       1\n",
       "411         1\n",
       "Name: count, Length: 4090, dtype: int64"
      ]
     },
     "execution_count": 64,
     "metadata": {},
     "output_type": "execute_result"
    }
   ],
   "source": [
    "df1['km'] = df1['km'].str.replace(',','',regex=True)\n",
    "\n",
    "df1['km'].value_counts()"
   ]
  },
  {
   "cell_type": "code",
   "execution_count": 61,
   "metadata": {},
   "outputs": [
    {
     "data": {
      "text/plain": [
       "Top Speed\n",
       "165    4149\n",
       "180     273\n",
       "160     259\n",
       "170     235\n",
       "190     222\n",
       "       ... \n",
       "126       1\n",
       "285       1\n",
       "310       1\n",
       "142       1\n",
       "275       1\n",
       "Name: count, Length: 124, dtype: int64"
      ]
     },
     "execution_count": 61,
     "metadata": {},
     "output_type": "execute_result"
    }
   ],
   "source": [
    "df1['Top Speed'].value_counts()"
   ]
  },
  {
   "cell_type": "code",
   "execution_count": 60,
   "metadata": {},
   "outputs": [],
   "source": [
    "df1.drop('Seats_y',axis=1,inplace=True)"
   ]
  },
  {
   "cell_type": "code",
   "execution_count": 66,
   "metadata": {},
   "outputs": [],
   "source": [
    "df1.drop('Height',axis=1,inplace=True)"
   ]
  },
  {
   "cell_type": "code",
   "execution_count": 69,
   "metadata": {},
   "outputs": [],
   "source": [
    "df1.drop('Wheel Base',axis=1,inplace=True)"
   ]
  },
  {
   "cell_type": "code",
   "execution_count": 76,
   "metadata": {},
   "outputs": [],
   "source": [
    "df1.drop('rpm',axis=1,inplace=True)"
   ]
  },
  {
   "cell_type": "code",
   "execution_count": 77,
   "metadata": {},
   "outputs": [],
   "source": [
    "df1['km'] = df1['km'].astype(float)\n",
    "df1['Length'] = df1['Length'].astype(float)\n",
    "df1['Width'] = df1['Width'].astype(float)\n",
    "#df1['Height'] = df1['Height'].astype(float)\n",
    "#df1['Wheel Base'] = df1['Wheel Base'].astype(float)\n",
    "df1['Seating Capacity'] = df1['Seating Capacity'].astype(object)\n",
    "#df1['rpm'] = df1['rpm'].astype(float)\n"
   ]
  },
  {
   "cell_type": "code",
   "execution_count": 71,
   "metadata": {},
   "outputs": [
    {
     "data": {
      "text/plain": [
       "Insurance Validity                 int64\n",
       "Fuel Type                         object\n",
       "Year of Manufacture              float64\n",
       "bt                                object\n",
       "km                               float64\n",
       "transmission                      object\n",
       "ownerNo                            int64\n",
       "oem                               object\n",
       "model                              int64\n",
       "modelYear                          int64\n",
       "centralVariantId                   int64\n",
       "Features                          object\n",
       "Comfort & Convenience             object\n",
       "Interior                          object\n",
       "Exterior                          object\n",
       "Safety                            object\n",
       "Entertainment & Communication     object\n",
       "Wheel Size                        object\n",
       "Color                             object\n",
       "Displacement                     float64\n",
       "No of Cylinder                   float64\n",
       "Values per Cylinder              float64\n",
       "Fuel Suppy System                 object\n",
       "Turbo Charger                     object\n",
       "Length                           float64\n",
       "Width                            float64\n",
       "Drive Type                        object\n",
       "Seating Capacity                  object\n",
       "Steering Type                     object\n",
       "Front Brake Type                  object\n",
       "Rear Brake Type                   object\n",
       "Alloy Wheel Size                  object\n",
       "No Door Numbers                  float64\n",
       "Mileage                          float64\n",
       "Super Charger                     object\n",
       "Turning Radius                   float64\n",
       "Top Speed                         object\n",
       "City                               int64\n",
       "price_in_lakhs                   float64\n",
       "Registration Year New            float64\n",
       "Gear                              object\n",
       "rpm                               object\n",
       "dtype: object"
      ]
     },
     "execution_count": 71,
     "metadata": {},
     "output_type": "execute_result"
    }
   ],
   "source": [
    "df1.dtypes"
   ]
  },
  {
   "cell_type": "code",
   "execution_count": 52,
   "metadata": {},
   "outputs": [],
   "source": [
    "feature_frame_columns = ['Features','Comfort & Convenience','Interior','Exterior',\n",
    "                         'Safety','Entertainment & Communication']\n",
    "feature_frame = df1[feature_frame_columns]\n",
    "feature_frame.to_excel('feature_frame.xlsx')"
   ]
  },
  {
   "cell_type": "code",
   "execution_count": 53,
   "metadata": {},
   "outputs": [
    {
     "data": {
      "text/plain": [
       "(8369, 6)"
      ]
     },
     "execution_count": 53,
     "metadata": {},
     "output_type": "execute_result"
    }
   ],
   "source": [
    "feature_frame.shape"
   ]
  },
  {
   "cell_type": "code",
   "execution_count": 78,
   "metadata": {},
   "outputs": [],
   "source": [
    "balance_frame = df1.drop(feature_frame_columns,axis=1)"
   ]
  },
  {
   "cell_type": "code",
   "execution_count": 79,
   "metadata": {},
   "outputs": [
    {
     "data": {
      "text/plain": [
       "(8369, 35)"
      ]
     },
     "execution_count": 79,
     "metadata": {},
     "output_type": "execute_result"
    }
   ],
   "source": [
    "balance_frame.shape"
   ]
  },
  {
   "cell_type": "code",
   "execution_count": 80,
   "metadata": {},
   "outputs": [
    {
     "data": {
      "text/plain": [
       "Index(['Fuel Type', 'bt', 'transmission', 'oem', 'Wheel Size', 'Color',\n",
       "       'Fuel Suppy System', 'Turbo Charger', 'Drive Type', 'Seating Capacity',\n",
       "       'Steering Type', 'Front Brake Type', 'Rear Brake Type',\n",
       "       'Alloy Wheel Size', 'Super Charger', 'Top Speed', 'Gear'],\n",
       "      dtype='object')"
      ]
     },
     "execution_count": 80,
     "metadata": {},
     "output_type": "execute_result"
    }
   ],
   "source": [
    "categorical_cols = balance_frame.select_dtypes(['object']).columns\n",
    "categorical_cols"
   ]
  },
  {
   "cell_type": "code",
   "execution_count": 81,
   "metadata": {},
   "outputs": [
    {
     "data": {
      "text/plain": [
       "Index(['Insurance Validity', 'Year of Manufacture', 'km', 'ownerNo', 'model',\n",
       "       'modelYear', 'centralVariantId', 'Displacement', 'No of Cylinder',\n",
       "       'Values per Cylinder', 'Length', 'Width', 'No Door Numbers', 'Mileage',\n",
       "       'Turning Radius', 'City', 'price_in_lakhs', 'Registration Year New'],\n",
       "      dtype='object')"
      ]
     },
     "execution_count": 81,
     "metadata": {},
     "output_type": "execute_result"
    }
   ],
   "source": [
    "numerical_cols = balance_frame.select_dtypes(['int64','float64']).columns\n",
    "numerical_cols"
   ]
  },
  {
   "cell_type": "code",
   "execution_count": 82,
   "metadata": {},
   "outputs": [
    {
     "data": {
      "text/plain": [
       "35"
      ]
     },
     "execution_count": 82,
     "metadata": {},
     "output_type": "execute_result"
    }
   ],
   "source": [
    "total_cols = len(categorical_cols) + len(numerical_cols)\n",
    "total_cols"
   ]
  },
  {
   "cell_type": "code",
   "execution_count": 83,
   "metadata": {},
   "outputs": [
    {
     "data": {
      "text/html": [
       "<div>\n",
       "<style scoped>\n",
       "    .dataframe tbody tr th:only-of-type {\n",
       "        vertical-align: middle;\n",
       "    }\n",
       "\n",
       "    .dataframe tbody tr th {\n",
       "        vertical-align: top;\n",
       "    }\n",
       "\n",
       "    .dataframe thead th {\n",
       "        text-align: right;\n",
       "    }\n",
       "</style>\n",
       "<table border=\"1\" class=\"dataframe\">\n",
       "  <thead>\n",
       "    <tr style=\"text-align: right;\">\n",
       "      <th></th>\n",
       "      <th>Insurance Validity</th>\n",
       "      <th>Fuel Type</th>\n",
       "      <th>Year of Manufacture</th>\n",
       "      <th>bt</th>\n",
       "      <th>km</th>\n",
       "      <th>transmission</th>\n",
       "      <th>ownerNo</th>\n",
       "      <th>oem</th>\n",
       "      <th>model</th>\n",
       "      <th>modelYear</th>\n",
       "      <th>...</th>\n",
       "      <th>Alloy Wheel Size</th>\n",
       "      <th>No Door Numbers</th>\n",
       "      <th>Mileage</th>\n",
       "      <th>Super Charger</th>\n",
       "      <th>Turning Radius</th>\n",
       "      <th>Top Speed</th>\n",
       "      <th>City</th>\n",
       "      <th>price_in_lakhs</th>\n",
       "      <th>Registration Year New</th>\n",
       "      <th>Gear</th>\n",
       "    </tr>\n",
       "  </thead>\n",
       "  <tbody>\n",
       "    <tr>\n",
       "      <th>0</th>\n",
       "      <td>5</td>\n",
       "      <td>4</td>\n",
       "      <td>2015.0</td>\n",
       "      <td>2</td>\n",
       "      <td>120000.0</td>\n",
       "      <td>1</td>\n",
       "      <td>3</td>\n",
       "      <td>20</td>\n",
       "      <td>160</td>\n",
       "      <td>2015</td>\n",
       "      <td>...</td>\n",
       "      <td>10</td>\n",
       "      <td>5.0</td>\n",
       "      <td>23.10</td>\n",
       "      <td>1</td>\n",
       "      <td>4.700000</td>\n",
       "      <td>25</td>\n",
       "      <td>0</td>\n",
       "      <td>4.00</td>\n",
       "      <td>2018.0</td>\n",
       "      <td>3</td>\n",
       "    </tr>\n",
       "    <tr>\n",
       "      <th>1</th>\n",
       "      <td>2</td>\n",
       "      <td>4</td>\n",
       "      <td>2018.0</td>\n",
       "      <td>7</td>\n",
       "      <td>32706.0</td>\n",
       "      <td>1</td>\n",
       "      <td>2</td>\n",
       "      <td>6</td>\n",
       "      <td>50</td>\n",
       "      <td>2018</td>\n",
       "      <td>...</td>\n",
       "      <td>4</td>\n",
       "      <td>4.0</td>\n",
       "      <td>17.00</td>\n",
       "      <td>1</td>\n",
       "      <td>5.300000</td>\n",
       "      <td>40</td>\n",
       "      <td>0</td>\n",
       "      <td>8.11</td>\n",
       "      <td>2018.0</td>\n",
       "      <td>3</td>\n",
       "    </tr>\n",
       "    <tr>\n",
       "      <th>2</th>\n",
       "      <td>2</td>\n",
       "      <td>4</td>\n",
       "      <td>2018.0</td>\n",
       "      <td>2</td>\n",
       "      <td>11949.0</td>\n",
       "      <td>1</td>\n",
       "      <td>1</td>\n",
       "      <td>29</td>\n",
       "      <td>273</td>\n",
       "      <td>2018</td>\n",
       "      <td>...</td>\n",
       "      <td>2</td>\n",
       "      <td>5.0</td>\n",
       "      <td>23.84</td>\n",
       "      <td>1</td>\n",
       "      <td>4.900000</td>\n",
       "      <td>25</td>\n",
       "      <td>0</td>\n",
       "      <td>5.85</td>\n",
       "      <td>2018.0</td>\n",
       "      <td>3</td>\n",
       "    </tr>\n",
       "    <tr>\n",
       "      <th>3</th>\n",
       "      <td>2</td>\n",
       "      <td>4</td>\n",
       "      <td>2014.0</td>\n",
       "      <td>8</td>\n",
       "      <td>17794.0</td>\n",
       "      <td>1</td>\n",
       "      <td>1</td>\n",
       "      <td>9</td>\n",
       "      <td>87</td>\n",
       "      <td>2014</td>\n",
       "      <td>...</td>\n",
       "      <td>2</td>\n",
       "      <td>4.0</td>\n",
       "      <td>19.10</td>\n",
       "      <td>1</td>\n",
       "      <td>4.700000</td>\n",
       "      <td>47</td>\n",
       "      <td>0</td>\n",
       "      <td>4.62</td>\n",
       "      <td>2014.0</td>\n",
       "      <td>3</td>\n",
       "    </tr>\n",
       "    <tr>\n",
       "      <th>4</th>\n",
       "      <td>5</td>\n",
       "      <td>1</td>\n",
       "      <td>2015.0</td>\n",
       "      <td>7</td>\n",
       "      <td>60000.0</td>\n",
       "      <td>1</td>\n",
       "      <td>1</td>\n",
       "      <td>20</td>\n",
       "      <td>178</td>\n",
       "      <td>2015</td>\n",
       "      <td>...</td>\n",
       "      <td>4</td>\n",
       "      <td>5.0</td>\n",
       "      <td>23.65</td>\n",
       "      <td>1</td>\n",
       "      <td>5.200000</td>\n",
       "      <td>62</td>\n",
       "      <td>0</td>\n",
       "      <td>7.90</td>\n",
       "      <td>2018.0</td>\n",
       "      <td>3</td>\n",
       "    </tr>\n",
       "    <tr>\n",
       "      <th>...</th>\n",
       "      <td>...</td>\n",
       "      <td>...</td>\n",
       "      <td>...</td>\n",
       "      <td>...</td>\n",
       "      <td>...</td>\n",
       "      <td>...</td>\n",
       "      <td>...</td>\n",
       "      <td>...</td>\n",
       "      <td>...</td>\n",
       "      <td>...</td>\n",
       "      <td>...</td>\n",
       "      <td>...</td>\n",
       "      <td>...</td>\n",
       "      <td>...</td>\n",
       "      <td>...</td>\n",
       "      <td>...</td>\n",
       "      <td>...</td>\n",
       "      <td>...</td>\n",
       "      <td>...</td>\n",
       "      <td>...</td>\n",
       "      <td>...</td>\n",
       "    </tr>\n",
       "    <tr>\n",
       "      <th>1376</th>\n",
       "      <td>5</td>\n",
       "      <td>4</td>\n",
       "      <td>2022.0</td>\n",
       "      <td>2</td>\n",
       "      <td>10000.0</td>\n",
       "      <td>1</td>\n",
       "      <td>1</td>\n",
       "      <td>20</td>\n",
       "      <td>160</td>\n",
       "      <td>2022</td>\n",
       "      <td>...</td>\n",
       "      <td>10</td>\n",
       "      <td>5.0</td>\n",
       "      <td>25.24</td>\n",
       "      <td>0</td>\n",
       "      <td>6.026417</td>\n",
       "      <td>40</td>\n",
       "      <td>5</td>\n",
       "      <td>5.10</td>\n",
       "      <td>2018.0</td>\n",
       "      <td>3</td>\n",
       "    </tr>\n",
       "    <tr>\n",
       "      <th>1377</th>\n",
       "      <td>5</td>\n",
       "      <td>4</td>\n",
       "      <td>2014.0</td>\n",
       "      <td>2</td>\n",
       "      <td>120000.0</td>\n",
       "      <td>1</td>\n",
       "      <td>1</td>\n",
       "      <td>20</td>\n",
       "      <td>155</td>\n",
       "      <td>2014</td>\n",
       "      <td>...</td>\n",
       "      <td>10</td>\n",
       "      <td>5.0</td>\n",
       "      <td>22.74</td>\n",
       "      <td>1</td>\n",
       "      <td>4.600000</td>\n",
       "      <td>17</td>\n",
       "      <td>5</td>\n",
       "      <td>1.80</td>\n",
       "      <td>2018.0</td>\n",
       "      <td>3</td>\n",
       "    </tr>\n",
       "    <tr>\n",
       "      <th>1378</th>\n",
       "      <td>5</td>\n",
       "      <td>4</td>\n",
       "      <td>2011.0</td>\n",
       "      <td>8</td>\n",
       "      <td>50000.0</td>\n",
       "      <td>0</td>\n",
       "      <td>3</td>\n",
       "      <td>21</td>\n",
       "      <td>197</td>\n",
       "      <td>2011</td>\n",
       "      <td>...</td>\n",
       "      <td>5</td>\n",
       "      <td>4.0</td>\n",
       "      <td>11.74</td>\n",
       "      <td>1</td>\n",
       "      <td>5.420000</td>\n",
       "      <td>97</td>\n",
       "      <td>5</td>\n",
       "      <td>5.50</td>\n",
       "      <td>2018.0</td>\n",
       "      <td>5</td>\n",
       "    </tr>\n",
       "    <tr>\n",
       "      <th>1379</th>\n",
       "      <td>5</td>\n",
       "      <td>4</td>\n",
       "      <td>2012.0</td>\n",
       "      <td>2</td>\n",
       "      <td>40000.0</td>\n",
       "      <td>1</td>\n",
       "      <td>1</td>\n",
       "      <td>20</td>\n",
       "      <td>175</td>\n",
       "      <td>2012</td>\n",
       "      <td>...</td>\n",
       "      <td>2</td>\n",
       "      <td>5.0</td>\n",
       "      <td>18.50</td>\n",
       "      <td>1</td>\n",
       "      <td>4.700000</td>\n",
       "      <td>31</td>\n",
       "      <td>5</td>\n",
       "      <td>1.40</td>\n",
       "      <td>2018.0</td>\n",
       "      <td>3</td>\n",
       "    </tr>\n",
       "    <tr>\n",
       "      <th>1380</th>\n",
       "      <td>5</td>\n",
       "      <td>1</td>\n",
       "      <td>2017.0</td>\n",
       "      <td>7</td>\n",
       "      <td>120000.0</td>\n",
       "      <td>1</td>\n",
       "      <td>2</td>\n",
       "      <td>27</td>\n",
       "      <td>236</td>\n",
       "      <td>2017</td>\n",
       "      <td>...</td>\n",
       "      <td>4</td>\n",
       "      <td>5.0</td>\n",
       "      <td>19.72</td>\n",
       "      <td>1</td>\n",
       "      <td>5.200000</td>\n",
       "      <td>43</td>\n",
       "      <td>5</td>\n",
       "      <td>5.00</td>\n",
       "      <td>2018.0</td>\n",
       "      <td>4</td>\n",
       "    </tr>\n",
       "  </tbody>\n",
       "</table>\n",
       "<p>8369 rows × 35 columns</p>\n",
       "</div>"
      ],
      "text/plain": [
       "      Insurance Validity  Fuel Type  Year of Manufacture  bt        km  \\\n",
       "0                      5          4               2015.0   2  120000.0   \n",
       "1                      2          4               2018.0   7   32706.0   \n",
       "2                      2          4               2018.0   2   11949.0   \n",
       "3                      2          4               2014.0   8   17794.0   \n",
       "4                      5          1               2015.0   7   60000.0   \n",
       "...                  ...        ...                  ...  ..       ...   \n",
       "1376                   5          4               2022.0   2   10000.0   \n",
       "1377                   5          4               2014.0   2  120000.0   \n",
       "1378                   5          4               2011.0   8   50000.0   \n",
       "1379                   5          4               2012.0   2   40000.0   \n",
       "1380                   5          1               2017.0   7  120000.0   \n",
       "\n",
       "      transmission  ownerNo  oem  model  modelYear  ...  Alloy Wheel Size  \\\n",
       "0                1        3   20    160       2015  ...                10   \n",
       "1                1        2    6     50       2018  ...                 4   \n",
       "2                1        1   29    273       2018  ...                 2   \n",
       "3                1        1    9     87       2014  ...                 2   \n",
       "4                1        1   20    178       2015  ...                 4   \n",
       "...            ...      ...  ...    ...        ...  ...               ...   \n",
       "1376             1        1   20    160       2022  ...                10   \n",
       "1377             1        1   20    155       2014  ...                10   \n",
       "1378             0        3   21    197       2011  ...                 5   \n",
       "1379             1        1   20    175       2012  ...                 2   \n",
       "1380             1        2   27    236       2017  ...                 4   \n",
       "\n",
       "      No Door Numbers  Mileage  Super Charger  Turning Radius  Top Speed  \\\n",
       "0                 5.0    23.10              1        4.700000         25   \n",
       "1                 4.0    17.00              1        5.300000         40   \n",
       "2                 5.0    23.84              1        4.900000         25   \n",
       "3                 4.0    19.10              1        4.700000         47   \n",
       "4                 5.0    23.65              1        5.200000         62   \n",
       "...               ...      ...            ...             ...        ...   \n",
       "1376              5.0    25.24              0        6.026417         40   \n",
       "1377              5.0    22.74              1        4.600000         17   \n",
       "1378              4.0    11.74              1        5.420000         97   \n",
       "1379              5.0    18.50              1        4.700000         31   \n",
       "1380              5.0    19.72              1        5.200000         43   \n",
       "\n",
       "      City  price_in_lakhs  Registration Year New  Gear  \n",
       "0        0            4.00                 2018.0     3  \n",
       "1        0            8.11                 2018.0     3  \n",
       "2        0            5.85                 2018.0     3  \n",
       "3        0            4.62                 2014.0     3  \n",
       "4        0            7.90                 2018.0     3  \n",
       "...    ...             ...                    ...   ...  \n",
       "1376     5            5.10                 2018.0     3  \n",
       "1377     5            1.80                 2018.0     3  \n",
       "1378     5            5.50                 2018.0     5  \n",
       "1379     5            1.40                 2018.0     3  \n",
       "1380     5            5.00                 2018.0     4  \n",
       "\n",
       "[8369 rows x 35 columns]"
      ]
     },
     "execution_count": 83,
     "metadata": {},
     "output_type": "execute_result"
    }
   ],
   "source": [
    "from sklearn.preprocessing import LabelEncoder\n",
    "le = LabelEncoder()\n",
    "balance_frame[categorical_cols] = balance_frame[categorical_cols].apply(lambda col: le.fit_transform(col))\n",
    "balance_frame"
   ]
  },
  {
   "cell_type": "code",
   "execution_count": 84,
   "metadata": {},
   "outputs": [
    {
     "data": {
      "text/plain": [
       "Insurance Validity         int64\n",
       "Fuel Type                  int64\n",
       "Year of Manufacture      float64\n",
       "bt                         int64\n",
       "km                       float64\n",
       "transmission               int64\n",
       "ownerNo                    int64\n",
       "oem                        int64\n",
       "model                      int64\n",
       "modelYear                  int64\n",
       "centralVariantId           int64\n",
       "Wheel Size                 int64\n",
       "Color                      int64\n",
       "Displacement             float64\n",
       "No of Cylinder           float64\n",
       "Values per Cylinder      float64\n",
       "Fuel Suppy System          int64\n",
       "Turbo Charger              int64\n",
       "Length                   float64\n",
       "Width                    float64\n",
       "Drive Type                 int64\n",
       "Seating Capacity           int64\n",
       "Steering Type              int64\n",
       "Front Brake Type           int64\n",
       "Rear Brake Type            int64\n",
       "Alloy Wheel Size           int64\n",
       "No Door Numbers          float64\n",
       "Mileage                  float64\n",
       "Super Charger              int64\n",
       "Turning Radius           float64\n",
       "Top Speed                  int64\n",
       "City                       int64\n",
       "price_in_lakhs           float64\n",
       "Registration Year New    float64\n",
       "Gear                       int64\n",
       "dtype: object"
      ]
     },
     "execution_count": 84,
     "metadata": {},
     "output_type": "execute_result"
    }
   ],
   "source": [
    "balance_frame.dtypes"
   ]
  },
  {
   "cell_type": "code",
   "execution_count": 85,
   "metadata": {},
   "outputs": [],
   "source": [
    "\n",
    "balance_frame.to_excel('balance_frame.xlsx')\n"
   ]
  },
  {
   "cell_type": "code",
   "execution_count": null,
   "metadata": {},
   "outputs": [],
   "source": [
    "categorical_features = df1.select_dtypes(include=['object','bool','category']).columns\n",
    "categorical_features"
   ]
  },
  {
   "cell_type": "code",
   "execution_count": null,
   "metadata": {},
   "outputs": [],
   "source": [
    "from sklearn.preprocessing import LabelEncoder\n",
    "le = LabelEncoder()\n",
    "df1[categorical_features] = df1[categorical_features].apply(lambda col: le.fit_transform(col))\n",
    "#df1.drop('Registration Year',axis=1,inplace=True)\n"
   ]
  },
  {
   "cell_type": "code",
   "execution_count": 86,
   "metadata": {},
   "outputs": [],
   "source": [
    "#Randrom Forest Regressor\n",
    "from sklearn.ensemble import RandomForestRegressor\n",
    "\n",
    "model = RandomForestRegressor()"
   ]
  },
  {
   "cell_type": "code",
   "execution_count": null,
   "metadata": {},
   "outputs": [],
   "source": [
    "df2['Mileage'] = df2['Mileage'].astype(float)"
   ]
  },
  {
   "cell_type": "code",
   "execution_count": null,
   "metadata": {},
   "outputs": [],
   "source": [
    "df1.to_excel('car_data_cleaned.xlsx')"
   ]
  },
  {
   "cell_type": "code",
   "execution_count": 110,
   "metadata": {},
   "outputs": [
    {
     "data": {
      "text/plain": [
       "((6695, 34), (1674, 34), (6695,), (1674,))"
      ]
     },
     "execution_count": 110,
     "metadata": {},
     "output_type": "execute_result"
    }
   ],
   "source": [
    "from sklearn.model_selection import train_test_split\n",
    "\n",
    "X = balance_frame.drop('price_in_lakhs',axis=1)\n",
    "y = df1['price_in_lakhs']\n",
    "X_train, X_test, y_train, y_test = train_test_split(X, y, test_size=0.2, random_state=42)\n",
    "X_train.shape, X_test.shape, y_train.shape, y_test.shape\n"
   ]
  },
  {
   "cell_type": "code",
   "execution_count": 111,
   "metadata": {},
   "outputs": [
    {
     "data": {
      "text/html": [
       "<style>#sk-container-id-2 {\n",
       "  /* Definition of color scheme common for light and dark mode */\n",
       "  --sklearn-color-text: black;\n",
       "  --sklearn-color-line: gray;\n",
       "  /* Definition of color scheme for unfitted estimators */\n",
       "  --sklearn-color-unfitted-level-0: #fff5e6;\n",
       "  --sklearn-color-unfitted-level-1: #f6e4d2;\n",
       "  --sklearn-color-unfitted-level-2: #ffe0b3;\n",
       "  --sklearn-color-unfitted-level-3: chocolate;\n",
       "  /* Definition of color scheme for fitted estimators */\n",
       "  --sklearn-color-fitted-level-0: #f0f8ff;\n",
       "  --sklearn-color-fitted-level-1: #d4ebff;\n",
       "  --sklearn-color-fitted-level-2: #b3dbfd;\n",
       "  --sklearn-color-fitted-level-3: cornflowerblue;\n",
       "\n",
       "  /* Specific color for light theme */\n",
       "  --sklearn-color-text-on-default-background: var(--sg-text-color, var(--theme-code-foreground, var(--jp-content-font-color1, black)));\n",
       "  --sklearn-color-background: var(--sg-background-color, var(--theme-background, var(--jp-layout-color0, white)));\n",
       "  --sklearn-color-border-box: var(--sg-text-color, var(--theme-code-foreground, var(--jp-content-font-color1, black)));\n",
       "  --sklearn-color-icon: #696969;\n",
       "\n",
       "  @media (prefers-color-scheme: dark) {\n",
       "    /* Redefinition of color scheme for dark theme */\n",
       "    --sklearn-color-text-on-default-background: var(--sg-text-color, var(--theme-code-foreground, var(--jp-content-font-color1, white)));\n",
       "    --sklearn-color-background: var(--sg-background-color, var(--theme-background, var(--jp-layout-color0, #111)));\n",
       "    --sklearn-color-border-box: var(--sg-text-color, var(--theme-code-foreground, var(--jp-content-font-color1, white)));\n",
       "    --sklearn-color-icon: #878787;\n",
       "  }\n",
       "}\n",
       "\n",
       "#sk-container-id-2 {\n",
       "  color: var(--sklearn-color-text);\n",
       "}\n",
       "\n",
       "#sk-container-id-2 pre {\n",
       "  padding: 0;\n",
       "}\n",
       "\n",
       "#sk-container-id-2 input.sk-hidden--visually {\n",
       "  border: 0;\n",
       "  clip: rect(1px 1px 1px 1px);\n",
       "  clip: rect(1px, 1px, 1px, 1px);\n",
       "  height: 1px;\n",
       "  margin: -1px;\n",
       "  overflow: hidden;\n",
       "  padding: 0;\n",
       "  position: absolute;\n",
       "  width: 1px;\n",
       "}\n",
       "\n",
       "#sk-container-id-2 div.sk-dashed-wrapped {\n",
       "  border: 1px dashed var(--sklearn-color-line);\n",
       "  margin: 0 0.4em 0.5em 0.4em;\n",
       "  box-sizing: border-box;\n",
       "  padding-bottom: 0.4em;\n",
       "  background-color: var(--sklearn-color-background);\n",
       "}\n",
       "\n",
       "#sk-container-id-2 div.sk-container {\n",
       "  /* jupyter's `normalize.less` sets `[hidden] { display: none; }`\n",
       "     but bootstrap.min.css set `[hidden] { display: none !important; }`\n",
       "     so we also need the `!important` here to be able to override the\n",
       "     default hidden behavior on the sphinx rendered scikit-learn.org.\n",
       "     See: https://github.com/scikit-learn/scikit-learn/issues/21755 */\n",
       "  display: inline-block !important;\n",
       "  position: relative;\n",
       "}\n",
       "\n",
       "#sk-container-id-2 div.sk-text-repr-fallback {\n",
       "  display: none;\n",
       "}\n",
       "\n",
       "div.sk-parallel-item,\n",
       "div.sk-serial,\n",
       "div.sk-item {\n",
       "  /* draw centered vertical line to link estimators */\n",
       "  background-image: linear-gradient(var(--sklearn-color-text-on-default-background), var(--sklearn-color-text-on-default-background));\n",
       "  background-size: 2px 100%;\n",
       "  background-repeat: no-repeat;\n",
       "  background-position: center center;\n",
       "}\n",
       "\n",
       "/* Parallel-specific style estimator block */\n",
       "\n",
       "#sk-container-id-2 div.sk-parallel-item::after {\n",
       "  content: \"\";\n",
       "  width: 100%;\n",
       "  border-bottom: 2px solid var(--sklearn-color-text-on-default-background);\n",
       "  flex-grow: 1;\n",
       "}\n",
       "\n",
       "#sk-container-id-2 div.sk-parallel {\n",
       "  display: flex;\n",
       "  align-items: stretch;\n",
       "  justify-content: center;\n",
       "  background-color: var(--sklearn-color-background);\n",
       "  position: relative;\n",
       "}\n",
       "\n",
       "#sk-container-id-2 div.sk-parallel-item {\n",
       "  display: flex;\n",
       "  flex-direction: column;\n",
       "}\n",
       "\n",
       "#sk-container-id-2 div.sk-parallel-item:first-child::after {\n",
       "  align-self: flex-end;\n",
       "  width: 50%;\n",
       "}\n",
       "\n",
       "#sk-container-id-2 div.sk-parallel-item:last-child::after {\n",
       "  align-self: flex-start;\n",
       "  width: 50%;\n",
       "}\n",
       "\n",
       "#sk-container-id-2 div.sk-parallel-item:only-child::after {\n",
       "  width: 0;\n",
       "}\n",
       "\n",
       "/* Serial-specific style estimator block */\n",
       "\n",
       "#sk-container-id-2 div.sk-serial {\n",
       "  display: flex;\n",
       "  flex-direction: column;\n",
       "  align-items: center;\n",
       "  background-color: var(--sklearn-color-background);\n",
       "  padding-right: 1em;\n",
       "  padding-left: 1em;\n",
       "}\n",
       "\n",
       "\n",
       "/* Toggleable style: style used for estimator/Pipeline/ColumnTransformer box that is\n",
       "clickable and can be expanded/collapsed.\n",
       "- Pipeline and ColumnTransformer use this feature and define the default style\n",
       "- Estimators will overwrite some part of the style using the `sk-estimator` class\n",
       "*/\n",
       "\n",
       "/* Pipeline and ColumnTransformer style (default) */\n",
       "\n",
       "#sk-container-id-2 div.sk-toggleable {\n",
       "  /* Default theme specific background. It is overwritten whether we have a\n",
       "  specific estimator or a Pipeline/ColumnTransformer */\n",
       "  background-color: var(--sklearn-color-background);\n",
       "}\n",
       "\n",
       "/* Toggleable label */\n",
       "#sk-container-id-2 label.sk-toggleable__label {\n",
       "  cursor: pointer;\n",
       "  display: block;\n",
       "  width: 100%;\n",
       "  margin-bottom: 0;\n",
       "  padding: 0.5em;\n",
       "  box-sizing: border-box;\n",
       "  text-align: center;\n",
       "}\n",
       "\n",
       "#sk-container-id-2 label.sk-toggleable__label-arrow:before {\n",
       "  /* Arrow on the left of the label */\n",
       "  content: \"▸\";\n",
       "  float: left;\n",
       "  margin-right: 0.25em;\n",
       "  color: var(--sklearn-color-icon);\n",
       "}\n",
       "\n",
       "#sk-container-id-2 label.sk-toggleable__label-arrow:hover:before {\n",
       "  color: var(--sklearn-color-text);\n",
       "}\n",
       "\n",
       "/* Toggleable content - dropdown */\n",
       "\n",
       "#sk-container-id-2 div.sk-toggleable__content {\n",
       "  max-height: 0;\n",
       "  max-width: 0;\n",
       "  overflow: hidden;\n",
       "  text-align: left;\n",
       "  /* unfitted */\n",
       "  background-color: var(--sklearn-color-unfitted-level-0);\n",
       "}\n",
       "\n",
       "#sk-container-id-2 div.sk-toggleable__content.fitted {\n",
       "  /* fitted */\n",
       "  background-color: var(--sklearn-color-fitted-level-0);\n",
       "}\n",
       "\n",
       "#sk-container-id-2 div.sk-toggleable__content pre {\n",
       "  margin: 0.2em;\n",
       "  border-radius: 0.25em;\n",
       "  color: var(--sklearn-color-text);\n",
       "  /* unfitted */\n",
       "  background-color: var(--sklearn-color-unfitted-level-0);\n",
       "}\n",
       "\n",
       "#sk-container-id-2 div.sk-toggleable__content.fitted pre {\n",
       "  /* unfitted */\n",
       "  background-color: var(--sklearn-color-fitted-level-0);\n",
       "}\n",
       "\n",
       "#sk-container-id-2 input.sk-toggleable__control:checked~div.sk-toggleable__content {\n",
       "  /* Expand drop-down */\n",
       "  max-height: 200px;\n",
       "  max-width: 100%;\n",
       "  overflow: auto;\n",
       "}\n",
       "\n",
       "#sk-container-id-2 input.sk-toggleable__control:checked~label.sk-toggleable__label-arrow:before {\n",
       "  content: \"▾\";\n",
       "}\n",
       "\n",
       "/* Pipeline/ColumnTransformer-specific style */\n",
       "\n",
       "#sk-container-id-2 div.sk-label input.sk-toggleable__control:checked~label.sk-toggleable__label {\n",
       "  color: var(--sklearn-color-text);\n",
       "  background-color: var(--sklearn-color-unfitted-level-2);\n",
       "}\n",
       "\n",
       "#sk-container-id-2 div.sk-label.fitted input.sk-toggleable__control:checked~label.sk-toggleable__label {\n",
       "  background-color: var(--sklearn-color-fitted-level-2);\n",
       "}\n",
       "\n",
       "/* Estimator-specific style */\n",
       "\n",
       "/* Colorize estimator box */\n",
       "#sk-container-id-2 div.sk-estimator input.sk-toggleable__control:checked~label.sk-toggleable__label {\n",
       "  /* unfitted */\n",
       "  background-color: var(--sklearn-color-unfitted-level-2);\n",
       "}\n",
       "\n",
       "#sk-container-id-2 div.sk-estimator.fitted input.sk-toggleable__control:checked~label.sk-toggleable__label {\n",
       "  /* fitted */\n",
       "  background-color: var(--sklearn-color-fitted-level-2);\n",
       "}\n",
       "\n",
       "#sk-container-id-2 div.sk-label label.sk-toggleable__label,\n",
       "#sk-container-id-2 div.sk-label label {\n",
       "  /* The background is the default theme color */\n",
       "  color: var(--sklearn-color-text-on-default-background);\n",
       "}\n",
       "\n",
       "/* On hover, darken the color of the background */\n",
       "#sk-container-id-2 div.sk-label:hover label.sk-toggleable__label {\n",
       "  color: var(--sklearn-color-text);\n",
       "  background-color: var(--sklearn-color-unfitted-level-2);\n",
       "}\n",
       "\n",
       "/* Label box, darken color on hover, fitted */\n",
       "#sk-container-id-2 div.sk-label.fitted:hover label.sk-toggleable__label.fitted {\n",
       "  color: var(--sklearn-color-text);\n",
       "  background-color: var(--sklearn-color-fitted-level-2);\n",
       "}\n",
       "\n",
       "/* Estimator label */\n",
       "\n",
       "#sk-container-id-2 div.sk-label label {\n",
       "  font-family: monospace;\n",
       "  font-weight: bold;\n",
       "  display: inline-block;\n",
       "  line-height: 1.2em;\n",
       "}\n",
       "\n",
       "#sk-container-id-2 div.sk-label-container {\n",
       "  text-align: center;\n",
       "}\n",
       "\n",
       "/* Estimator-specific */\n",
       "#sk-container-id-2 div.sk-estimator {\n",
       "  font-family: monospace;\n",
       "  border: 1px dotted var(--sklearn-color-border-box);\n",
       "  border-radius: 0.25em;\n",
       "  box-sizing: border-box;\n",
       "  margin-bottom: 0.5em;\n",
       "  /* unfitted */\n",
       "  background-color: var(--sklearn-color-unfitted-level-0);\n",
       "}\n",
       "\n",
       "#sk-container-id-2 div.sk-estimator.fitted {\n",
       "  /* fitted */\n",
       "  background-color: var(--sklearn-color-fitted-level-0);\n",
       "}\n",
       "\n",
       "/* on hover */\n",
       "#sk-container-id-2 div.sk-estimator:hover {\n",
       "  /* unfitted */\n",
       "  background-color: var(--sklearn-color-unfitted-level-2);\n",
       "}\n",
       "\n",
       "#sk-container-id-2 div.sk-estimator.fitted:hover {\n",
       "  /* fitted */\n",
       "  background-color: var(--sklearn-color-fitted-level-2);\n",
       "}\n",
       "\n",
       "/* Specification for estimator info (e.g. \"i\" and \"?\") */\n",
       "\n",
       "/* Common style for \"i\" and \"?\" */\n",
       "\n",
       ".sk-estimator-doc-link,\n",
       "a:link.sk-estimator-doc-link,\n",
       "a:visited.sk-estimator-doc-link {\n",
       "  float: right;\n",
       "  font-size: smaller;\n",
       "  line-height: 1em;\n",
       "  font-family: monospace;\n",
       "  background-color: var(--sklearn-color-background);\n",
       "  border-radius: 1em;\n",
       "  height: 1em;\n",
       "  width: 1em;\n",
       "  text-decoration: none !important;\n",
       "  margin-left: 1ex;\n",
       "  /* unfitted */\n",
       "  border: var(--sklearn-color-unfitted-level-1) 1pt solid;\n",
       "  color: var(--sklearn-color-unfitted-level-1);\n",
       "}\n",
       "\n",
       ".sk-estimator-doc-link.fitted,\n",
       "a:link.sk-estimator-doc-link.fitted,\n",
       "a:visited.sk-estimator-doc-link.fitted {\n",
       "  /* fitted */\n",
       "  border: var(--sklearn-color-fitted-level-1) 1pt solid;\n",
       "  color: var(--sklearn-color-fitted-level-1);\n",
       "}\n",
       "\n",
       "/* On hover */\n",
       "div.sk-estimator:hover .sk-estimator-doc-link:hover,\n",
       ".sk-estimator-doc-link:hover,\n",
       "div.sk-label-container:hover .sk-estimator-doc-link:hover,\n",
       ".sk-estimator-doc-link:hover {\n",
       "  /* unfitted */\n",
       "  background-color: var(--sklearn-color-unfitted-level-3);\n",
       "  color: var(--sklearn-color-background);\n",
       "  text-decoration: none;\n",
       "}\n",
       "\n",
       "div.sk-estimator.fitted:hover .sk-estimator-doc-link.fitted:hover,\n",
       ".sk-estimator-doc-link.fitted:hover,\n",
       "div.sk-label-container:hover .sk-estimator-doc-link.fitted:hover,\n",
       ".sk-estimator-doc-link.fitted:hover {\n",
       "  /* fitted */\n",
       "  background-color: var(--sklearn-color-fitted-level-3);\n",
       "  color: var(--sklearn-color-background);\n",
       "  text-decoration: none;\n",
       "}\n",
       "\n",
       "/* Span, style for the box shown on hovering the info icon */\n",
       ".sk-estimator-doc-link span {\n",
       "  display: none;\n",
       "  z-index: 9999;\n",
       "  position: relative;\n",
       "  font-weight: normal;\n",
       "  right: .2ex;\n",
       "  padding: .5ex;\n",
       "  margin: .5ex;\n",
       "  width: min-content;\n",
       "  min-width: 20ex;\n",
       "  max-width: 50ex;\n",
       "  color: var(--sklearn-color-text);\n",
       "  box-shadow: 2pt 2pt 4pt #999;\n",
       "  /* unfitted */\n",
       "  background: var(--sklearn-color-unfitted-level-0);\n",
       "  border: .5pt solid var(--sklearn-color-unfitted-level-3);\n",
       "}\n",
       "\n",
       ".sk-estimator-doc-link.fitted span {\n",
       "  /* fitted */\n",
       "  background: var(--sklearn-color-fitted-level-0);\n",
       "  border: var(--sklearn-color-fitted-level-3);\n",
       "}\n",
       "\n",
       ".sk-estimator-doc-link:hover span {\n",
       "  display: block;\n",
       "}\n",
       "\n",
       "/* \"?\"-specific style due to the `<a>` HTML tag */\n",
       "\n",
       "#sk-container-id-2 a.estimator_doc_link {\n",
       "  float: right;\n",
       "  font-size: 1rem;\n",
       "  line-height: 1em;\n",
       "  font-family: monospace;\n",
       "  background-color: var(--sklearn-color-background);\n",
       "  border-radius: 1rem;\n",
       "  height: 1rem;\n",
       "  width: 1rem;\n",
       "  text-decoration: none;\n",
       "  /* unfitted */\n",
       "  color: var(--sklearn-color-unfitted-level-1);\n",
       "  border: var(--sklearn-color-unfitted-level-1) 1pt solid;\n",
       "}\n",
       "\n",
       "#sk-container-id-2 a.estimator_doc_link.fitted {\n",
       "  /* fitted */\n",
       "  border: var(--sklearn-color-fitted-level-1) 1pt solid;\n",
       "  color: var(--sklearn-color-fitted-level-1);\n",
       "}\n",
       "\n",
       "/* On hover */\n",
       "#sk-container-id-2 a.estimator_doc_link:hover {\n",
       "  /* unfitted */\n",
       "  background-color: var(--sklearn-color-unfitted-level-3);\n",
       "  color: var(--sklearn-color-background);\n",
       "  text-decoration: none;\n",
       "}\n",
       "\n",
       "#sk-container-id-2 a.estimator_doc_link.fitted:hover {\n",
       "  /* fitted */\n",
       "  background-color: var(--sklearn-color-fitted-level-3);\n",
       "}\n",
       "</style><div id=\"sk-container-id-2\" class=\"sk-top-container\"><div class=\"sk-text-repr-fallback\"><pre>RandomForestRegressor()</pre><b>In a Jupyter environment, please rerun this cell to show the HTML representation or trust the notebook. <br />On GitHub, the HTML representation is unable to render, please try loading this page with nbviewer.org.</b></div><div class=\"sk-container\" hidden><div class=\"sk-item\"><div class=\"sk-estimator fitted sk-toggleable\"><input class=\"sk-toggleable__control sk-hidden--visually\" id=\"sk-estimator-id-2\" type=\"checkbox\" checked><label for=\"sk-estimator-id-2\" class=\"sk-toggleable__label fitted sk-toggleable__label-arrow fitted\">&nbsp;&nbsp;RandomForestRegressor<a class=\"sk-estimator-doc-link fitted\" rel=\"noreferrer\" target=\"_blank\" href=\"https://scikit-learn.org/1.5/modules/generated/sklearn.ensemble.RandomForestRegressor.html\">?<span>Documentation for RandomForestRegressor</span></a><span class=\"sk-estimator-doc-link fitted\">i<span>Fitted</span></span></label><div class=\"sk-toggleable__content fitted\"><pre>RandomForestRegressor()</pre></div> </div></div></div></div>"
      ],
      "text/plain": [
       "RandomForestRegressor()"
      ]
     },
     "execution_count": 111,
     "metadata": {},
     "output_type": "execute_result"
    }
   ],
   "source": [
    "model.fit(X_train,y_train)\n"
   ]
  },
  {
   "cell_type": "code",
   "execution_count": 112,
   "metadata": {},
   "outputs": [
    {
     "data": {
      "text/plain": [
       "array([ 9.1516 ,  2.82565,  3.5751 , ..., 10.5102 , 57.7241 ,  6.3296 ])"
      ]
     },
     "execution_count": 112,
     "metadata": {},
     "output_type": "execute_result"
    }
   ],
   "source": [
    "y_pred = model.predict(X_test)\n",
    "y_pred"
   ]
  },
  {
   "cell_type": "code",
   "execution_count": 113,
   "metadata": {},
   "outputs": [
    {
     "data": {
      "text/plain": [
       "0.2830636315657714"
      ]
     },
     "execution_count": 113,
     "metadata": {},
     "output_type": "execute_result"
    }
   ],
   "source": [
    "#accuracy\n",
    "\n",
    "from sklearn.metrics import r2_score\n",
    "\n",
    "r2_score(y_test,y_pred)"
   ]
  },
  {
   "cell_type": "code",
   "execution_count": 97,
   "metadata": {},
   "outputs": [],
   "source": [
    "#plot feature importance\n"
   ]
  },
  {
   "cell_type": "code",
   "execution_count": 114,
   "metadata": {},
   "outputs": [
    {
     "name": "stdout",
     "output_type": "stream",
     "text": [
      "Elapsed time to compute the importances: 0.035 seconds\n"
     ]
    }
   ],
   "source": [
    "# Built-in feature importance (Gini Importance)\n",
    "import time\n",
    "\n",
    "import numpy as np\n",
    "\n",
    "start_time = time.time()\n",
    "importances = model.feature_importances_\n",
    "std = np.std([tree.feature_importances_ for tree in model.estimators_], axis=0)\n",
    "elapsed_time = time.time() - start_time\n",
    "\n",
    "print(f\"Elapsed time to compute the importances: {elapsed_time:.3f} seconds\")\n"
   ]
  },
  {
   "cell_type": "code",
   "execution_count": 115,
   "metadata": {},
   "outputs": [
    {
     "data": {
      "text/plain": [
       "array([0.00569153, 0.00288586, 0.15360988, 0.00429234, 0.08245718,\n",
       "       0.00146804, 0.03778303, 0.00684405, 0.01333135, 0.12465854,\n",
       "       0.05655598, 0.01522607, 0.02420427, 0.04812176, 0.00277407,\n",
       "       0.00583815, 0.03802015, 0.00132409, 0.03955525, 0.03674496,\n",
       "       0.01718091, 0.00142142, 0.01576888, 0.01205931, 0.00378802,\n",
       "       0.07435623, 0.00518368, 0.0250657 , 0.00034982, 0.03768512,\n",
       "       0.00989732, 0.06190889, 0.02370217, 0.01024596])"
      ]
     },
     "execution_count": 115,
     "metadata": {},
     "output_type": "execute_result"
    }
   ],
   "source": [
    "importances"
   ]
  },
  {
   "cell_type": "code",
   "execution_count": 118,
   "metadata": {},
   "outputs": [
    {
     "data": {
      "text/plain": [
       "Index(['Insurance Validity', 'Fuel Type', 'Year of Manufacture', 'bt', 'km',\n",
       "       'transmission', 'ownerNo', 'oem', 'model', 'modelYear',\n",
       "       'centralVariantId', 'Wheel Size', 'Color', 'Displacement',\n",
       "       'No of Cylinder', 'Values per Cylinder', 'Fuel Suppy System',\n",
       "       'Turbo Charger', 'Length', 'Width', 'Drive Type', 'Seating Capacity',\n",
       "       'Steering Type', 'Front Brake Type', 'Rear Brake Type',\n",
       "       'Alloy Wheel Size', 'No Door Numbers', 'Mileage', 'Super Charger',\n",
       "       'Turning Radius', 'Top Speed', 'City', 'Registration Year New', 'Gear'],\n",
       "      dtype='object')"
      ]
     },
     "execution_count": 118,
     "metadata": {},
     "output_type": "execute_result"
    }
   ],
   "source": [
    "feature_names = X.columns\n",
    "feature_names"
   ]
  },
  {
   "cell_type": "code",
   "execution_count": 119,
   "metadata": {},
   "outputs": [
    {
     "data": {
      "image/png": "[encoded data removed]",
      "text/plain": [
       "<Figure size 640x480 with 1 Axes>"
      ]
     },
     "metadata": {},
     "output_type": "display_data"
    }
   ],
   "source": [
    "import pandas as pd\n",
    "import matplotlib.pyplot as plt\n",
    "#feature_names = [f\"feature {i}\" for i in range(X.shape[1])]\n",
    "forest_importances = pd.Series(importances, index=feature_names)\n",
    "\n",
    "fig, ax = plt.subplots()\n",
    "forest_importances.plot.bar(yerr=std, ax=ax)\n",
    "ax.set_title(\"Feature importances using MDI\")\n",
    "ax.set_ylabel(\"Mean decrease in impurity\")\n",
    "fig.tight_layout()"
   ]
  },
  {
   "cell_type": "code",
   "execution_count": 103,
   "metadata": {},
   "outputs": [
    {
     "data": {
      "text/plain": [
       "'feature 32'"
      ]
     },
     "execution_count": 103,
     "metadata": {},
     "output_type": "execute_result"
    }
   ],
   "source": [
    "feature_names[32]"
   ]
  },
  {
   "cell_type": "code",
   "execution_count": null,
   "metadata": {},
   "outputs": [],
   "source": [
    "categorical_features = df1.select_dtypes(include=['object']).columns\n",
    "categorical_features"
   ]
  },
  {
   "cell_type": "code",
   "execution_count": null,
   "metadata": {},
   "outputs": [],
   "source": [
    "from sklearn.preprocessing import LabelEncoder\n",
    "le = LabelEncoder()\n",
    "df1[categorical_features] = df1[categorical_features].apply(lambda col: le.fit_transform(col))\n",
    "df1"
   ]
  },
  {
   "cell_type": "code",
   "execution_count": null,
   "metadata": {},
   "outputs": [],
   "source": [
    "new_categorical_features = df1.select_dtypes(include=['object']).columns\n",
    "new_categorical_features"
   ]
  },
  {
   "cell_type": "code",
   "execution_count": null,
   "metadata": {},
   "outputs": [],
   "source": [
    "print(df1.columns)"
   ]
  },
  {
   "cell_type": "code",
   "execution_count": null,
   "metadata": {},
   "outputs": [],
   "source": [
    "df1['BoreX Stroke'].value_counts()"
   ]
  },
  {
   "cell_type": "code",
   "execution_count": null,
   "metadata": {},
   "outputs": [],
   "source": [
    "df1.isna().sum()"
   ]
  },
  {
   "cell_type": "code",
   "execution_count": null,
   "metadata": {},
   "outputs": [],
   "source": [
    "df1['Seats_x'].value_counts()"
   ]
  },
  {
   "cell_type": "code",
   "execution_count": null,
   "metadata": {},
   "outputs": [],
   "source": [
    "df1.dtypes"
   ]
  },
  {
   "cell_type": "code",
   "execution_count": null,
   "metadata": {},
   "outputs": [],
   "source": [
    "df1['Top Speed'].value_counts()"
   ]
  },
  {
   "cell_type": "code",
   "execution_count": null,
   "metadata": {},
   "outputs": [],
   "source": []
  }
 ],
 "metadata": {
  "kernelspec": {
   "display_name": ".venv",
   "language": "python",
   "name": "python3"
  },
  "language_info": {
   "codemirror_mode": {
    "name": "ipython",
    "version": 3
   },
   "file_extension": ".py",
   "mimetype": "text/x-python",
   "name": "python",
   "nbconvert_exporter": "python",
   "pygments_lexer": "ipython3",
   "version": "3.12.4"
  }
 },
 "nbformat": 4,
 "nbformat_minor": 2
}
